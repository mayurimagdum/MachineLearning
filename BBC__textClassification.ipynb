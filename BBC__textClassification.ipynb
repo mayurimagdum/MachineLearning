{
  "nbformat": 4,
  "nbformat_minor": 0,
  "metadata": {
    "colab": {
      "name": "BBC _textClassification.ipynb",
      "provenance": [],
      "include_colab_link": true
    },
    "kernelspec": {
      "name": "python3",
      "display_name": "Python 3"
    },
    "accelerator": "GPU"
  },
  "cells": [
    {
      "cell_type": "markdown",
      "metadata": {
        "id": "view-in-github",
        "colab_type": "text"
      },
      "source": [
        "<a href=\"https://colab.research.google.com/github/mayurimagdum/MachineLearning/blob/master/BBC__textClassification.ipynb\" target=\"_parent\"><img src=\"https://colab.research.google.com/assets/colab-badge.svg\" alt=\"Open In Colab\"/></a>"
      ]
    },
    {
      "cell_type": "code",
      "metadata": {
        "id": "vaQd8StiwUyz",
        "colab_type": "code",
        "colab": {}
      },
      "source": [
        "import pandas as pd\n",
        "import numpy as np\n",
        "import matplotlib.pyplot as plt\n",
        "% matplotlib inline"
      ],
      "execution_count": 0,
      "outputs": []
    },
    {
      "cell_type": "code",
      "metadata": {
        "id": "Todsr2Vrx5jH",
        "colab_type": "code",
        "outputId": "9cdcc6c0-3bbb-49fb-ec93-3ab592c98417",
        "colab": {
          "base_uri": "https://localhost:8080/",
          "height": 195
        }
      },
      "source": [
        "data = pd.read_csv('bbc-text.csv')\n",
        "data.head(5)"
      ],
      "execution_count": 2,
      "outputs": [
        {
          "output_type": "execute_result",
          "data": {
            "text/html": [
              "<div>\n",
              "<style scoped>\n",
              "    .dataframe tbody tr th:only-of-type {\n",
              "        vertical-align: middle;\n",
              "    }\n",
              "\n",
              "    .dataframe tbody tr th {\n",
              "        vertical-align: top;\n",
              "    }\n",
              "\n",
              "    .dataframe thead th {\n",
              "        text-align: right;\n",
              "    }\n",
              "</style>\n",
              "<table border=\"1\" class=\"dataframe\">\n",
              "  <thead>\n",
              "    <tr style=\"text-align: right;\">\n",
              "      <th></th>\n",
              "      <th>category</th>\n",
              "      <th>text</th>\n",
              "    </tr>\n",
              "  </thead>\n",
              "  <tbody>\n",
              "    <tr>\n",
              "      <th>0</th>\n",
              "      <td>tech</td>\n",
              "      <td>tv future in the hands of viewers with home th...</td>\n",
              "    </tr>\n",
              "    <tr>\n",
              "      <th>1</th>\n",
              "      <td>business</td>\n",
              "      <td>worldcom boss  left books alone  former worldc...</td>\n",
              "    </tr>\n",
              "    <tr>\n",
              "      <th>2</th>\n",
              "      <td>sport</td>\n",
              "      <td>tigers wary of farrell  gamble  leicester say ...</td>\n",
              "    </tr>\n",
              "    <tr>\n",
              "      <th>3</th>\n",
              "      <td>sport</td>\n",
              "      <td>yeading face newcastle in fa cup premiership s...</td>\n",
              "    </tr>\n",
              "    <tr>\n",
              "      <th>4</th>\n",
              "      <td>entertainment</td>\n",
              "      <td>ocean s twelve raids box office ocean s twelve...</td>\n",
              "    </tr>\n",
              "  </tbody>\n",
              "</table>\n",
              "</div>"
            ],
            "text/plain": [
              "        category                                               text\n",
              "0           tech  tv future in the hands of viewers with home th...\n",
              "1       business  worldcom boss  left books alone  former worldc...\n",
              "2          sport  tigers wary of farrell  gamble  leicester say ...\n",
              "3          sport  yeading face newcastle in fa cup premiership s...\n",
              "4  entertainment  ocean s twelve raids box office ocean s twelve..."
            ]
          },
          "metadata": {
            "tags": []
          },
          "execution_count": 2
        }
      ]
    },
    {
      "cell_type": "code",
      "metadata": {
        "id": "pFbd-6GIyBkU",
        "colab_type": "code",
        "colab": {}
      },
      "source": [
        "train_text,test_text,train_cat,test_cat = train_test_split(data['text'], data['category'], test_size = 0.2)"
      ],
      "execution_count": 0,
      "outputs": []
    },
    {
      "cell_type": "code",
      "metadata": {
        "id": "mLWPH9iZyd_Z",
        "colab_type": "code",
        "colab": {}
      },
      "source": [
        "import tensorflow as tf\n"
      ],
      "execution_count": 0,
      "outputs": []
    },
    {
      "cell_type": "code",
      "metadata": {
        "id": "XzrfZTIG1ZGv",
        "colab_type": "code",
        "colab": {}
      },
      "source": [
        "# Toekenize the data \n",
        "tokenize = tf.keras.preprocessing.text.Tokenizer(num_words= 1000, char_level= False)\n",
        "tokenize.fit_on_texts(train_text)\n",
        "X_train = tokenize.texts_to_matrix(train_text)\n",
        "X_test  =tokenize.texts_to_matrix(test_text)"
      ],
      "execution_count": 0,
      "outputs": []
    },
    {
      "cell_type": "code",
      "metadata": {
        "id": "dT0ww7T21q56",
        "colab_type": "code",
        "colab": {}
      },
      "source": [
        "# encoding the categories \n",
        "\n",
        "from sklearn.preprocessing import LabelEncoder\n",
        "encoder = LabelEncoder()\n",
        "y_train = encoder.fit_transform(train_cat)\n",
        "y_test  = encoder.fit_transform(test_cat)"
      ],
      "execution_count": 0,
      "outputs": []
    },
    {
      "cell_type": "code",
      "metadata": {
        "id": "jzn5myyjga7t",
        "colab_type": "code",
        "colab": {}
      },
      "source": [
        "num_classes = np.max(y_train) + 1\n",
        "y_train = tf.keras.utils.to_categorical(y_train, num_classes)\n",
        "y_test  = tf.keras.utils.to_categorical(y_test,num_classes)"
      ],
      "execution_count": 0,
      "outputs": []
    },
    {
      "cell_type": "code",
      "metadata": {
        "id": "V7_6UZ0-rHZ7",
        "colab_type": "code",
        "colab": {}
      },
      "source": [
        "# Training Model\n",
        "\n",
        "batch_size = 32\n",
        "epoch = 4\n",
        "drop_rate = 0.5\n",
        "\n",
        "# Building a Model\n",
        "\n",
        "model = tf.keras.models.Sequential()\n",
        "model.add(tf.keras.layers.Dense(128, input_shape = (1000,),activation = tf.nn.relu))\n",
        "model.add(tf.keras.layers.Dense(num_classes,activation = tf.nn.softmax))\n",
        "\n",
        "model.compile(optimizer = 'adam',\n",
        "               loss = 'categorical_crossentropy',\n",
        "            metrics = ['accuracy'])\n",
        "\n",
        "\n"
      ],
      "execution_count": 0,
      "outputs": []
    },
    {
      "cell_type": "code",
      "metadata": {
        "id": "ELLJ4I9er1l8",
        "colab_type": "code",
        "colab": {
          "base_uri": "https://localhost:8080/",
          "height": 185
        },
        "outputId": "893e2512-0d9b-4b31-9197-1795652fce0a"
      },
      "source": [
        "model.fit(X_train,y_train,\n",
        "          batch_size = batch_size,\n",
        "          epochs= epoch,\n",
        "          verbose=1,\n",
        "          validation_split=0.1)"
      ],
      "execution_count": 44,
      "outputs": [
        {
          "output_type": "stream",
          "text": [
            "Train on 1602 samples, validate on 178 samples\n",
            "Epoch 1/4\n",
            "1602/1602 [==============================] - 0s 199us/sample - loss: 0.6927 - acc: 0.7959 - val_loss: 0.2142 - val_acc: 0.9551\n",
            "Epoch 2/4\n",
            "1602/1602 [==============================] - 0s 120us/sample - loss: 0.1118 - acc: 0.9819 - val_loss: 0.1283 - val_acc: 0.9663\n",
            "Epoch 3/4\n",
            "1602/1602 [==============================] - 0s 121us/sample - loss: 0.0513 - acc: 0.9963 - val_loss: 0.1011 - val_acc: 0.9719\n",
            "Epoch 4/4\n",
            "1602/1602 [==============================] - 0s 124us/sample - loss: 0.0240 - acc: 0.9994 - val_loss: 0.0936 - val_acc: 0.9719\n"
          ],
          "name": "stdout"
        },
        {
          "output_type": "execute_result",
          "data": {
            "text/plain": [
              "<tensorflow.python.keras.callbacks.History at 0x7fcdd02693c8>"
            ]
          },
          "metadata": {
            "tags": []
          },
          "execution_count": 44
        }
      ]
    },
    {
      "cell_type": "code",
      "metadata": {
        "id": "W46WU_RSw1tL",
        "colab_type": "code",
        "colab": {}
      },
      "source": [
        "score = model.evaluate(X_test,y_test,batch_size= batch_size, verbose=0)"
      ],
      "execution_count": 0,
      "outputs": []
    },
    {
      "cell_type": "code",
      "metadata": {
        "id": "Lm3fhwUvxKnZ",
        "colab_type": "code",
        "colab": {
          "base_uri": "https://localhost:8080/",
          "height": 34
        },
        "outputId": "50b303e0-9894-454b-e2f1-6d1d38389521"
      },
      "source": [
        "print('Accuracy is:',score[1])\n"
      ],
      "execution_count": 49,
      "outputs": [
        {
          "output_type": "stream",
          "text": [
            "Accuracy is: 0.96629214\n"
          ],
          "name": "stdout"
        }
      ]
    },
    {
      "cell_type": "code",
      "metadata": {
        "id": "npfTDURFxgL4",
        "colab_type": "code",
        "colab": {
          "base_uri": "https://localhost:8080/",
          "height": 87
        },
        "outputId": "9f2f08c8-7f40-4299-da25-d9758ac3d906"
      },
      "source": [
        "text_labels = encoder.classes_\n",
        "prediction = model.predict(np.array([X_test[23]]))\n",
        "predicted_label = text_labels[np.argmax(prediction)]\n",
        "print(test_text.iloc[23])\n",
        "print('Acutual Label is:', test_cat.iloc[23])\n",
        "print('predicted Label is:',predicted_label )"
      ],
      "execution_count": 66,
      "outputs": [
        {
          "output_type": "stream",
          "text": [
            "drive to  save  festive holidays efforts are being made to  protect  workers  days off on christmas day and new year s day.  support is being sought for a bill which would ensure that large retailers in scotland remain closed on christmas day and 1 january. the usdaw trade union said shop workers should be able to enjoy a break with their families. msp karen whitefield wants to ensure only those whose roles are essential are at work over the festive season. in recent years  more stores have been opening on traditional holidays  with some starting their end-of-year sale on christmas day or new year s day. ms whitefield said:  i have found members of the public to be very supportive when i have been campaigning on the streets.   the early evidence shows quite clearly that the vast majority of people believe that shop workers should be given these two special days to spend with friends and family.  usdaw general secretary john hannett added:  christmas day and new year s day are special days for everyone in scotland and the fact that shops do not open is an important part of making them special. they are largely collective days of rest.  we want people to tell karen  through her consultation  whether they want the special nature of these days to remain  or whether they want them to become like any other trading day  with shops open for business as usual.  the consultation on a christmas & new year s day trading bill has so far attracted almost 500 responses and closes on 7 february.\n",
            "Acutual Label is: politics\n",
            "predicted Label is: politics\n"
          ],
          "name": "stdout"
        }
      ]
    },
    {
      "cell_type": "code",
      "metadata": {
        "id": "4N4Uh8QzyRbT",
        "colab_type": "code",
        "colab": {}
      },
      "source": [
        ""
      ],
      "execution_count": 0,
      "outputs": []
    }
  ]
}