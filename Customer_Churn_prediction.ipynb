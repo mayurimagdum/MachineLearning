{
  "nbformat": 4,
  "nbformat_minor": 0,
  "metadata": {
    "kernelspec": {
      "display_name": "Python 3",
      "language": "python",
      "name": "python3"
    },
    "language_info": {
      "codemirror_mode": {
        "name": "ipython",
        "version": 3
      },
      "file_extension": ".py",
      "mimetype": "text/x-python",
      "name": "python",
      "nbconvert_exporter": "python",
      "pygments_lexer": "ipython3",
      "version": "3.7.3"
    },
    "colab": {
      "name": "Customer Churn prediction.ipynb",
      "provenance": [],
      "include_colab_link": true
    }
  },
  "cells": [
    {
      "cell_type": "markdown",
      "metadata": {
        "id": "view-in-github",
        "colab_type": "text"
      },
      "source": [
        "<a href=\"https://colab.research.google.com/github/mayurimagdum/MachineLearning/blob/master/Customer_Churn_prediction.ipynb\" target=\"_parent\"><img src=\"https://colab.research.google.com/assets/colab-badge.svg\" alt=\"Open In Colab\"/></a>"
      ]
    },
    {
      "cell_type": "code",
      "metadata": {
        "id": "TKsP6s-k3-q0",
        "colab_type": "code",
        "colab": {
          "base_uri": "https://localhost:8080/",
          "height": 72
        },
        "outputId": "e271aa99-a8e3-44fb-c267-9f6d51560b84"
      },
      "source": [
        "import pandas as pd\n",
        "import matplotlib.pyplot as plt\n",
        "import seaborn as sns\n",
        "import numpy as np\n",
        "%matplotlib inline"
      ],
      "execution_count": 1,
      "outputs": [
        {
          "output_type": "stream",
          "text": [
            "/usr/local/lib/python3.6/dist-packages/statsmodels/tools/_testing.py:19: FutureWarning: pandas.util.testing is deprecated. Use the functions in the public API at pandas.testing instead.\n",
            "  import pandas.util.testing as tm\n"
          ],
          "name": "stderr"
        }
      ]
    },
    {
      "cell_type": "code",
      "metadata": {
        "id": "-WelO34A3-q5",
        "colab_type": "code",
        "colab": {}
      },
      "source": [
        "data = pd.read_csv('/WA_Fn-UseC_-Telco-Customer-Churn.csv')\n",
        "data.head(2)\n",
        "data = data.drop('customerID',axis =1)"
      ],
      "execution_count": 2,
      "outputs": []
    },
    {
      "cell_type": "code",
      "metadata": {
        "id": "aBcKIIfV3-q8",
        "colab_type": "code",
        "colab": {
          "base_uri": "https://localhost:8080/",
          "height": 35
        },
        "outputId": "fdec2841-c608-4a33-cc6d-d890a545ed11"
      },
      "source": [
        "data.shape"
      ],
      "execution_count": 3,
      "outputs": [
        {
          "output_type": "execute_result",
          "data": {
            "text/plain": [
              "(7043, 20)"
            ]
          },
          "metadata": {
            "tags": []
          },
          "execution_count": 3
        }
      ]
    },
    {
      "cell_type": "code",
      "metadata": {
        "id": "kMk3b1aQ3-rA",
        "colab_type": "code",
        "colab": {
          "base_uri": "https://localhost:8080/",
          "height": 294
        },
        "outputId": "7b76c141-8c8e-4f0b-ce12-f76010cddff9"
      },
      "source": [
        "data.describe()"
      ],
      "execution_count": 4,
      "outputs": [
        {
          "output_type": "execute_result",
          "data": {
            "text/html": [
              "<div>\n",
              "<style scoped>\n",
              "    .dataframe tbody tr th:only-of-type {\n",
              "        vertical-align: middle;\n",
              "    }\n",
              "\n",
              "    .dataframe tbody tr th {\n",
              "        vertical-align: top;\n",
              "    }\n",
              "\n",
              "    .dataframe thead th {\n",
              "        text-align: right;\n",
              "    }\n",
              "</style>\n",
              "<table border=\"1\" class=\"dataframe\">\n",
              "  <thead>\n",
              "    <tr style=\"text-align: right;\">\n",
              "      <th></th>\n",
              "      <th>SeniorCitizen</th>\n",
              "      <th>tenure</th>\n",
              "      <th>MonthlyCharges</th>\n",
              "    </tr>\n",
              "  </thead>\n",
              "  <tbody>\n",
              "    <tr>\n",
              "      <th>count</th>\n",
              "      <td>7043.000000</td>\n",
              "      <td>7043.000000</td>\n",
              "      <td>7043.000000</td>\n",
              "    </tr>\n",
              "    <tr>\n",
              "      <th>mean</th>\n",
              "      <td>0.162147</td>\n",
              "      <td>32.371149</td>\n",
              "      <td>64.761692</td>\n",
              "    </tr>\n",
              "    <tr>\n",
              "      <th>std</th>\n",
              "      <td>0.368612</td>\n",
              "      <td>24.559481</td>\n",
              "      <td>30.090047</td>\n",
              "    </tr>\n",
              "    <tr>\n",
              "      <th>min</th>\n",
              "      <td>0.000000</td>\n",
              "      <td>0.000000</td>\n",
              "      <td>18.250000</td>\n",
              "    </tr>\n",
              "    <tr>\n",
              "      <th>25%</th>\n",
              "      <td>0.000000</td>\n",
              "      <td>9.000000</td>\n",
              "      <td>35.500000</td>\n",
              "    </tr>\n",
              "    <tr>\n",
              "      <th>50%</th>\n",
              "      <td>0.000000</td>\n",
              "      <td>29.000000</td>\n",
              "      <td>70.350000</td>\n",
              "    </tr>\n",
              "    <tr>\n",
              "      <th>75%</th>\n",
              "      <td>0.000000</td>\n",
              "      <td>55.000000</td>\n",
              "      <td>89.850000</td>\n",
              "    </tr>\n",
              "    <tr>\n",
              "      <th>max</th>\n",
              "      <td>1.000000</td>\n",
              "      <td>72.000000</td>\n",
              "      <td>118.750000</td>\n",
              "    </tr>\n",
              "  </tbody>\n",
              "</table>\n",
              "</div>"
            ],
            "text/plain": [
              "       SeniorCitizen       tenure  MonthlyCharges\n",
              "count    7043.000000  7043.000000     7043.000000\n",
              "mean        0.162147    32.371149       64.761692\n",
              "std         0.368612    24.559481       30.090047\n",
              "min         0.000000     0.000000       18.250000\n",
              "25%         0.000000     9.000000       35.500000\n",
              "50%         0.000000    29.000000       70.350000\n",
              "75%         0.000000    55.000000       89.850000\n",
              "max         1.000000    72.000000      118.750000"
            ]
          },
          "metadata": {
            "tags": []
          },
          "execution_count": 4
        }
      ]
    },
    {
      "cell_type": "code",
      "metadata": {
        "id": "SHoIUoJj3-rD",
        "colab_type": "code",
        "colab": {
          "base_uri": "https://localhost:8080/",
          "height": 291
        },
        "outputId": "42abb3cd-a865-4520-87bc-7b1a8d82e27f"
      },
      "source": [
        "data['TotalCharges'] = data['TotalCharges'].replace(\" \" , np.nan)\n",
        "data = data[data['TotalCharges'].notnull()]\n",
        "data = data.reset_index()[data.columns]\n",
        "\n",
        "data['TotalCharges']  = data['TotalCharges'].astype(float)\n",
        "\n",
        "# Relacing no internate service by no\n",
        "\n",
        "Replace = ['OnlineSecurity', 'OnlineBackup', 'DeviceProtection', 'TechSupport','StreamingTV', 'StreamingMovies']\n",
        "\n",
        "for i in Replace :\n",
        "    data[i]  = data[i].replace({'No internate Service' : 'No'})\n",
        "    \n",
        "data['MultipleLines'] = data['MultipleLines'].replace({'MultipleLines' : 'No'})\n",
        "\n",
        "def tenure_lab(data) :\n",
        "    \n",
        "    if data[\"tenure\"] <= 12 :\n",
        "        return \"Tenure_0-12\"\n",
        "    elif (data[\"tenure\"] > 12) & (data[\"tenure\"] <= 24 ):\n",
        "        return \"Tenure_12-24\"\n",
        "    elif (data[\"tenure\"] > 24) & (data[\"tenure\"] <= 48) :\n",
        "        return \"Tenure_24-48\"\n",
        "    elif (data[\"tenure\"] > 48) & (data[\"tenure\"] <= 60) :\n",
        "        return \"Tenure_48-60\"\n",
        "    elif data[\"tenure\"] > 60 :\n",
        "        return \"Tenure_gt_60\"\n",
        "    \n",
        "    \n",
        "data[\"tenure_group\"] = data.apply(lambda data:tenure_lab(data), axis = 1)\n",
        "data['tenure_group'].value_counts()\n",
        "\n",
        "data.head()\n"
      ],
      "execution_count": 5,
      "outputs": [
        {
          "output_type": "execute_result",
          "data": {
            "text/html": [
              "<div>\n",
              "<style scoped>\n",
              "    .dataframe tbody tr th:only-of-type {\n",
              "        vertical-align: middle;\n",
              "    }\n",
              "\n",
              "    .dataframe tbody tr th {\n",
              "        vertical-align: top;\n",
              "    }\n",
              "\n",
              "    .dataframe thead th {\n",
              "        text-align: right;\n",
              "    }\n",
              "</style>\n",
              "<table border=\"1\" class=\"dataframe\">\n",
              "  <thead>\n",
              "    <tr style=\"text-align: right;\">\n",
              "      <th></th>\n",
              "      <th>gender</th>\n",
              "      <th>SeniorCitizen</th>\n",
              "      <th>Partner</th>\n",
              "      <th>Dependents</th>\n",
              "      <th>tenure</th>\n",
              "      <th>PhoneService</th>\n",
              "      <th>MultipleLines</th>\n",
              "      <th>InternetService</th>\n",
              "      <th>OnlineSecurity</th>\n",
              "      <th>OnlineBackup</th>\n",
              "      <th>DeviceProtection</th>\n",
              "      <th>TechSupport</th>\n",
              "      <th>StreamingTV</th>\n",
              "      <th>StreamingMovies</th>\n",
              "      <th>Contract</th>\n",
              "      <th>PaperlessBilling</th>\n",
              "      <th>PaymentMethod</th>\n",
              "      <th>MonthlyCharges</th>\n",
              "      <th>TotalCharges</th>\n",
              "      <th>Churn</th>\n",
              "      <th>tenure_group</th>\n",
              "    </tr>\n",
              "  </thead>\n",
              "  <tbody>\n",
              "    <tr>\n",
              "      <th>0</th>\n",
              "      <td>Female</td>\n",
              "      <td>0</td>\n",
              "      <td>Yes</td>\n",
              "      <td>No</td>\n",
              "      <td>1</td>\n",
              "      <td>No</td>\n",
              "      <td>No phone service</td>\n",
              "      <td>DSL</td>\n",
              "      <td>No</td>\n",
              "      <td>Yes</td>\n",
              "      <td>No</td>\n",
              "      <td>No</td>\n",
              "      <td>No</td>\n",
              "      <td>No</td>\n",
              "      <td>Month-to-month</td>\n",
              "      <td>Yes</td>\n",
              "      <td>Electronic check</td>\n",
              "      <td>29.85</td>\n",
              "      <td>29.85</td>\n",
              "      <td>No</td>\n",
              "      <td>Tenure_0-12</td>\n",
              "    </tr>\n",
              "    <tr>\n",
              "      <th>1</th>\n",
              "      <td>Male</td>\n",
              "      <td>0</td>\n",
              "      <td>No</td>\n",
              "      <td>No</td>\n",
              "      <td>34</td>\n",
              "      <td>Yes</td>\n",
              "      <td>No</td>\n",
              "      <td>DSL</td>\n",
              "      <td>Yes</td>\n",
              "      <td>No</td>\n",
              "      <td>Yes</td>\n",
              "      <td>No</td>\n",
              "      <td>No</td>\n",
              "      <td>No</td>\n",
              "      <td>One year</td>\n",
              "      <td>No</td>\n",
              "      <td>Mailed check</td>\n",
              "      <td>56.95</td>\n",
              "      <td>1889.50</td>\n",
              "      <td>No</td>\n",
              "      <td>Tenure_24-48</td>\n",
              "    </tr>\n",
              "    <tr>\n",
              "      <th>2</th>\n",
              "      <td>Male</td>\n",
              "      <td>0</td>\n",
              "      <td>No</td>\n",
              "      <td>No</td>\n",
              "      <td>2</td>\n",
              "      <td>Yes</td>\n",
              "      <td>No</td>\n",
              "      <td>DSL</td>\n",
              "      <td>Yes</td>\n",
              "      <td>Yes</td>\n",
              "      <td>No</td>\n",
              "      <td>No</td>\n",
              "      <td>No</td>\n",
              "      <td>No</td>\n",
              "      <td>Month-to-month</td>\n",
              "      <td>Yes</td>\n",
              "      <td>Mailed check</td>\n",
              "      <td>53.85</td>\n",
              "      <td>108.15</td>\n",
              "      <td>Yes</td>\n",
              "      <td>Tenure_0-12</td>\n",
              "    </tr>\n",
              "    <tr>\n",
              "      <th>3</th>\n",
              "      <td>Male</td>\n",
              "      <td>0</td>\n",
              "      <td>No</td>\n",
              "      <td>No</td>\n",
              "      <td>45</td>\n",
              "      <td>No</td>\n",
              "      <td>No phone service</td>\n",
              "      <td>DSL</td>\n",
              "      <td>Yes</td>\n",
              "      <td>No</td>\n",
              "      <td>Yes</td>\n",
              "      <td>Yes</td>\n",
              "      <td>No</td>\n",
              "      <td>No</td>\n",
              "      <td>One year</td>\n",
              "      <td>No</td>\n",
              "      <td>Bank transfer (automatic)</td>\n",
              "      <td>42.30</td>\n",
              "      <td>1840.75</td>\n",
              "      <td>No</td>\n",
              "      <td>Tenure_24-48</td>\n",
              "    </tr>\n",
              "    <tr>\n",
              "      <th>4</th>\n",
              "      <td>Female</td>\n",
              "      <td>0</td>\n",
              "      <td>No</td>\n",
              "      <td>No</td>\n",
              "      <td>2</td>\n",
              "      <td>Yes</td>\n",
              "      <td>No</td>\n",
              "      <td>Fiber optic</td>\n",
              "      <td>No</td>\n",
              "      <td>No</td>\n",
              "      <td>No</td>\n",
              "      <td>No</td>\n",
              "      <td>No</td>\n",
              "      <td>No</td>\n",
              "      <td>Month-to-month</td>\n",
              "      <td>Yes</td>\n",
              "      <td>Electronic check</td>\n",
              "      <td>70.70</td>\n",
              "      <td>151.65</td>\n",
              "      <td>Yes</td>\n",
              "      <td>Tenure_0-12</td>\n",
              "    </tr>\n",
              "  </tbody>\n",
              "</table>\n",
              "</div>"
            ],
            "text/plain": [
              "   gender  SeniorCitizen Partner  ... TotalCharges  Churn  tenure_group\n",
              "0  Female              0     Yes  ...        29.85     No   Tenure_0-12\n",
              "1    Male              0      No  ...      1889.50     No  Tenure_24-48\n",
              "2    Male              0      No  ...       108.15    Yes   Tenure_0-12\n",
              "3    Male              0      No  ...      1840.75     No  Tenure_24-48\n",
              "4  Female              0      No  ...       151.65    Yes   Tenure_0-12\n",
              "\n",
              "[5 rows x 21 columns]"
            ]
          },
          "metadata": {
            "tags": []
          },
          "execution_count": 5
        }
      ]
    },
    {
      "cell_type": "code",
      "metadata": {
        "id": "ullp8aMF3-rG",
        "colab_type": "code",
        "colab": {}
      },
      "source": [
        "\n",
        "data = data.drop('tenure', axis = 1)\n",
        "# Seperating Churn Data \n",
        "Churn = data[data['Churn'] == 'Yes']\n",
        "Nourn = data[data['Churn'] == 'No']\n"
      ],
      "execution_count": 6,
      "outputs": []
    },
    {
      "cell_type": "code",
      "metadata": {
        "id": "8ohuZzrU3-rJ",
        "colab_type": "code",
        "colab": {
          "base_uri": "https://localhost:8080/",
          "height": 371
        },
        "outputId": "97aa8474-2cd1-4ce7-8b2a-ef2f132ab3c7"
      },
      "source": [
        "# Data Exploration \n",
        "\n",
        "TenureChurn = Churn.groupby('tenure_group').size()\n",
        "TenureChurn.plot(kind = 'bar')\n",
        "plt.title('Churn = Yes Vs Tenure')\n",
        "\n"
      ],
      "execution_count": 7,
      "outputs": [
        {
          "output_type": "execute_result",
          "data": {
            "text/plain": [
              "Text(0.5, 1.0, 'Churn = Yes Vs Tenure')"
            ]
          },
          "metadata": {
            "tags": []
          },
          "execution_count": 7
        },
        {
          "output_type": "display_data",
          "data": {
            "image/png": "[encoded data removed]",
            "text/plain": [
              "<Figure size 432x288 with 1 Axes>"
            ]
          },
          "metadata": {
            "tags": [],
            "needs_background": "light"
          }
        }
      ]
    },
    {
      "cell_type": "code",
      "metadata": {
        "scrolled": true,
        "id": "LdfX8tQN3-rL",
        "colab_type": "code",
        "colab": {
          "base_uri": "https://localhost:8080/",
          "height": 355
        },
        "outputId": "6df444d8-16b9-441a-dbad-2af51dce0bc7"
      },
      "source": [
        "Avg = Churn.groupby(['tenure_group'])['MonthlyCharges'].mean()\n",
        "Avg.plot(kind ='bar')"
      ],
      "execution_count": 8,
      "outputs": [
        {
          "output_type": "execute_result",
          "data": {
            "text/plain": [
              "<matplotlib.axes._subplots.AxesSubplot at 0x7f12626e6cf8>"
            ]
          },
          "metadata": {
            "tags": []
          },
          "execution_count": 8
        },
        {
          "output_type": "display_data",
          "data": {
            "image/png": "[encoded data removed]",
            "text/plain": [
              "<Figure size 432x288 with 1 Axes>"
            ]
          },
          "metadata": {
            "tags": [],
            "needs_background": "light"
          }
        }
      ]
    },
    {
      "cell_type": "code",
      "metadata": {
        "id": "jHXCFOl53-rO",
        "colab_type": "code",
        "colab": {
          "base_uri": "https://localhost:8080/",
          "height": 355
        },
        "outputId": "c9ff85a4-f777-481a-862a-8f4a9894befe"
      },
      "source": [
        "Avg = Churn.groupby(['tenure_group'])['TotalCharges'].mean()\n",
        "Avg.plot(kind ='bar')"
      ],
      "execution_count": 9,
      "outputs": [
        {
          "output_type": "execute_result",
          "data": {
            "text/plain": [
              "<matplotlib.axes._subplots.AxesSubplot at 0x7f1262212c18>"
            ]
          },
          "metadata": {
            "tags": []
          },
          "execution_count": 9
        },
        {
          "output_type": "display_data",
          "data": {
            "image/png": "[encoded data removed]",
            "text/plain": [
              "<Figure size 432x288 with 1 Axes>"
            ]
          },
          "metadata": {
            "tags": [],
            "needs_background": "light"
          }
        }
      ]
    },
    {
      "cell_type": "code",
      "metadata": {
        "id": "hJAk1_U-3-rQ",
        "colab_type": "code",
        "colab": {}
      },
      "source": [
        " dict = data.columns.to_series().groupby(data.dtypes).groups"
      ],
      "execution_count": 10,
      "outputs": []
    },
    {
      "cell_type": "code",
      "metadata": {
        "id": "JCG-Biz23-rT",
        "colab_type": "code",
        "colab": {}
      },
      "source": [
        "categorical = ['gender', 'Partner', 'Dependents', 'PhoneService',\n",
        "        'MultipleLines', 'InternetService', 'OnlineSecurity', 'OnlineBackup',\n",
        "        'DeviceProtection', 'TechSupport', 'StreamingTV', 'StreamingMovies',\n",
        "        'Contract', 'PaperlessBilling', 'PaymentMethod', 'Churn',\n",
        "        'tenure_group','SeniorCitizen']\n",
        "\n",
        "binary_col = data.nunique()[data.nunique() == 2].keys().tolist()\n",
        "multiple_col = [i for i in categorical if i not in binary_col]\n",
        "numerical = ['MonthlyCharges', 'TotalCharges']\n",
        "\n",
        "\n",
        "from sklearn.preprocessing import LabelEncoder\n",
        "encoder = LabelEncoder()\n",
        "\n",
        "for i in binary_col:\n",
        "    data[i] = encoder.fit_transform(data[i])\n",
        "    \n",
        "# Dummy variabel coding\n",
        "data = pd.get_dummies(data= data, columns = multiple_col) \n"
      ],
      "execution_count": 11,
      "outputs": []
    },
    {
      "cell_type": "code",
      "metadata": {
        "id": "BF7tIwd-3-rV",
        "colab_type": "code",
        "colab": {}
      },
      "source": [
        "data_final = data.drop(['MonthlyCharges', 'TotalCharges'],axis=1)"
      ],
      "execution_count": 12,
      "outputs": []
    },
    {
      "cell_type": "code",
      "metadata": {
        "id": "Sa2yox7w3-rX",
        "colab_type": "code",
        "colab": {}
      },
      "source": [
        "df1 = data[['MonthlyCharges', 'TotalCharges']]\n",
        "from sklearn.preprocessing import StandardScaler\n",
        "scaler = StandardScaler()\n",
        "scaled = scaler.fit_transform(df1)\n",
        "scaled = pd.DataFrame(scaled, columns= ['MonthlyCharges_1', 'TotalCharges_1'])"
      ],
      "execution_count": 13,
      "outputs": []
    },
    {
      "cell_type": "code",
      "metadata": {
        "id": "m17dKSD93-ra",
        "colab_type": "code",
        "colab": {
          "base_uri": "https://localhost:8080/",
          "height": 257
        },
        "outputId": "0a441c54-0b8f-4a95-dd42-f226a170c179"
      },
      "source": [
        "data_final = pd.concat([data_final,scaled], axis = 1)\n",
        "data_final.head()"
      ],
      "execution_count": 14,
      "outputs": [
        {
          "output_type": "execute_result",
          "data": {
            "text/html": [
              "<div>\n",
              "<style scoped>\n",
              "    .dataframe tbody tr th:only-of-type {\n",
              "        vertical-align: middle;\n",
              "    }\n",
              "\n",
              "    .dataframe tbody tr th {\n",
              "        vertical-align: top;\n",
              "    }\n",
              "\n",
              "    .dataframe thead th {\n",
              "        text-align: right;\n",
              "    }\n",
              "</style>\n",
              "<table border=\"1\" class=\"dataframe\">\n",
              "  <thead>\n",
              "    <tr style=\"text-align: right;\">\n",
              "      <th></th>\n",
              "      <th>gender</th>\n",
              "      <th>SeniorCitizen</th>\n",
              "      <th>Partner</th>\n",
              "      <th>Dependents</th>\n",
              "      <th>PhoneService</th>\n",
              "      <th>PaperlessBilling</th>\n",
              "      <th>Churn</th>\n",
              "      <th>MultipleLines_No</th>\n",
              "      <th>MultipleLines_No phone service</th>\n",
              "      <th>MultipleLines_Yes</th>\n",
              "      <th>InternetService_DSL</th>\n",
              "      <th>InternetService_Fiber optic</th>\n",
              "      <th>InternetService_No</th>\n",
              "      <th>OnlineSecurity_No</th>\n",
              "      <th>OnlineSecurity_No internet service</th>\n",
              "      <th>OnlineSecurity_Yes</th>\n",
              "      <th>OnlineBackup_No</th>\n",
              "      <th>OnlineBackup_No internet service</th>\n",
              "      <th>OnlineBackup_Yes</th>\n",
              "      <th>DeviceProtection_No</th>\n",
              "      <th>DeviceProtection_No internet service</th>\n",
              "      <th>DeviceProtection_Yes</th>\n",
              "      <th>TechSupport_No</th>\n",
              "      <th>TechSupport_No internet service</th>\n",
              "      <th>TechSupport_Yes</th>\n",
              "      <th>StreamingTV_No</th>\n",
              "      <th>StreamingTV_No internet service</th>\n",
              "      <th>StreamingTV_Yes</th>\n",
              "      <th>StreamingMovies_No</th>\n",
              "      <th>StreamingMovies_No internet service</th>\n",
              "      <th>StreamingMovies_Yes</th>\n",
              "      <th>Contract_Month-to-month</th>\n",
              "      <th>Contract_One year</th>\n",
              "      <th>Contract_Two year</th>\n",
              "      <th>PaymentMethod_Bank transfer (automatic)</th>\n",
              "      <th>PaymentMethod_Credit card (automatic)</th>\n",
              "      <th>PaymentMethod_Electronic check</th>\n",
              "      <th>PaymentMethod_Mailed check</th>\n",
              "      <th>tenure_group_Tenure_0-12</th>\n",
              "      <th>tenure_group_Tenure_12-24</th>\n",
              "      <th>tenure_group_Tenure_24-48</th>\n",
              "      <th>tenure_group_Tenure_48-60</th>\n",
              "      <th>tenure_group_Tenure_gt_60</th>\n",
              "      <th>MonthlyCharges_1</th>\n",
              "      <th>TotalCharges_1</th>\n",
              "    </tr>\n",
              "  </thead>\n",
              "  <tbody>\n",
              "    <tr>\n",
              "      <th>0</th>\n",
              "      <td>0</td>\n",
              "      <td>0</td>\n",
              "      <td>1</td>\n",
              "      <td>0</td>\n",
              "      <td>0</td>\n",
              "      <td>1</td>\n",
              "      <td>0</td>\n",
              "      <td>0</td>\n",
              "      <td>1</td>\n",
              "      <td>0</td>\n",
              "      <td>1</td>\n",
              "      <td>0</td>\n",
              "      <td>0</td>\n",
              "      <td>1</td>\n",
              "      <td>0</td>\n",
              "      <td>0</td>\n",
              "      <td>0</td>\n",
              "      <td>0</td>\n",
              "      <td>1</td>\n",
              "      <td>1</td>\n",
              "      <td>0</td>\n",
              "      <td>0</td>\n",
              "      <td>1</td>\n",
              "      <td>0</td>\n",
              "      <td>0</td>\n",
              "      <td>1</td>\n",
              "      <td>0</td>\n",
              "      <td>0</td>\n",
              "      <td>1</td>\n",
              "      <td>0</td>\n",
              "      <td>0</td>\n",
              "      <td>1</td>\n",
              "      <td>0</td>\n",
              "      <td>0</td>\n",
              "      <td>0</td>\n",
              "      <td>0</td>\n",
              "      <td>1</td>\n",
              "      <td>0</td>\n",
              "      <td>1</td>\n",
              "      <td>0</td>\n",
              "      <td>0</td>\n",
              "      <td>0</td>\n",
              "      <td>0</td>\n",
              "      <td>-1.161694</td>\n",
              "      <td>-0.994194</td>\n",
              "    </tr>\n",
              "    <tr>\n",
              "      <th>1</th>\n",
              "      <td>1</td>\n",
              "      <td>0</td>\n",
              "      <td>0</td>\n",
              "      <td>0</td>\n",
              "      <td>1</td>\n",
              "      <td>0</td>\n",
              "      <td>0</td>\n",
              "      <td>1</td>\n",
              "      <td>0</td>\n",
              "      <td>0</td>\n",
              "      <td>1</td>\n",
              "      <td>0</td>\n",
              "      <td>0</td>\n",
              "      <td>0</td>\n",
              "      <td>0</td>\n",
              "      <td>1</td>\n",
              "      <td>1</td>\n",
              "      <td>0</td>\n",
              "      <td>0</td>\n",
              "      <td>0</td>\n",
              "      <td>0</td>\n",
              "      <td>1</td>\n",
              "      <td>1</td>\n",
              "      <td>0</td>\n",
              "      <td>0</td>\n",
              "      <td>1</td>\n",
              "      <td>0</td>\n",
              "      <td>0</td>\n",
              "      <td>1</td>\n",
              "      <td>0</td>\n",
              "      <td>0</td>\n",
              "      <td>0</td>\n",
              "      <td>1</td>\n",
              "      <td>0</td>\n",
              "      <td>0</td>\n",
              "      <td>0</td>\n",
              "      <td>0</td>\n",
              "      <td>1</td>\n",
              "      <td>0</td>\n",
              "      <td>0</td>\n",
              "      <td>1</td>\n",
              "      <td>0</td>\n",
              "      <td>0</td>\n",
              "      <td>-0.260878</td>\n",
              "      <td>-0.173740</td>\n",
              "    </tr>\n",
              "    <tr>\n",
              "      <th>2</th>\n",
              "      <td>1</td>\n",
              "      <td>0</td>\n",
              "      <td>0</td>\n",
              "      <td>0</td>\n",
              "      <td>1</td>\n",
              "      <td>1</td>\n",
              "      <td>1</td>\n",
              "      <td>1</td>\n",
              "      <td>0</td>\n",
              "      <td>0</td>\n",
              "      <td>1</td>\n",
              "      <td>0</td>\n",
              "      <td>0</td>\n",
              "      <td>0</td>\n",
              "      <td>0</td>\n",
              "      <td>1</td>\n",
              "      <td>0</td>\n",
              "      <td>0</td>\n",
              "      <td>1</td>\n",
              "      <td>1</td>\n",
              "      <td>0</td>\n",
              "      <td>0</td>\n",
              "      <td>1</td>\n",
              "      <td>0</td>\n",
              "      <td>0</td>\n",
              "      <td>1</td>\n",
              "      <td>0</td>\n",
              "      <td>0</td>\n",
              "      <td>1</td>\n",
              "      <td>0</td>\n",
              "      <td>0</td>\n",
              "      <td>1</td>\n",
              "      <td>0</td>\n",
              "      <td>0</td>\n",
              "      <td>0</td>\n",
              "      <td>0</td>\n",
              "      <td>0</td>\n",
              "      <td>1</td>\n",
              "      <td>1</td>\n",
              "      <td>0</td>\n",
              "      <td>0</td>\n",
              "      <td>0</td>\n",
              "      <td>0</td>\n",
              "      <td>-0.363923</td>\n",
              "      <td>-0.959649</td>\n",
              "    </tr>\n",
              "    <tr>\n",
              "      <th>3</th>\n",
              "      <td>1</td>\n",
              "      <td>0</td>\n",
              "      <td>0</td>\n",
              "      <td>0</td>\n",
              "      <td>0</td>\n",
              "      <td>0</td>\n",
              "      <td>0</td>\n",
              "      <td>0</td>\n",
              "      <td>1</td>\n",
              "      <td>0</td>\n",
              "      <td>1</td>\n",
              "      <td>0</td>\n",
              "      <td>0</td>\n",
              "      <td>0</td>\n",
              "      <td>0</td>\n",
              "      <td>1</td>\n",
              "      <td>1</td>\n",
              "      <td>0</td>\n",
              "      <td>0</td>\n",
              "      <td>0</td>\n",
              "      <td>0</td>\n",
              "      <td>1</td>\n",
              "      <td>0</td>\n",
              "      <td>0</td>\n",
              "      <td>1</td>\n",
              "      <td>1</td>\n",
              "      <td>0</td>\n",
              "      <td>0</td>\n",
              "      <td>1</td>\n",
              "      <td>0</td>\n",
              "      <td>0</td>\n",
              "      <td>0</td>\n",
              "      <td>1</td>\n",
              "      <td>0</td>\n",
              "      <td>1</td>\n",
              "      <td>0</td>\n",
              "      <td>0</td>\n",
              "      <td>0</td>\n",
              "      <td>0</td>\n",
              "      <td>0</td>\n",
              "      <td>1</td>\n",
              "      <td>0</td>\n",
              "      <td>0</td>\n",
              "      <td>-0.747850</td>\n",
              "      <td>-0.195248</td>\n",
              "    </tr>\n",
              "    <tr>\n",
              "      <th>4</th>\n",
              "      <td>0</td>\n",
              "      <td>0</td>\n",
              "      <td>0</td>\n",
              "      <td>0</td>\n",
              "      <td>1</td>\n",
              "      <td>1</td>\n",
              "      <td>1</td>\n",
              "      <td>1</td>\n",
              "      <td>0</td>\n",
              "      <td>0</td>\n",
              "      <td>0</td>\n",
              "      <td>1</td>\n",
              "      <td>0</td>\n",
              "      <td>1</td>\n",
              "      <td>0</td>\n",
              "      <td>0</td>\n",
              "      <td>1</td>\n",
              "      <td>0</td>\n",
              "      <td>0</td>\n",
              "      <td>1</td>\n",
              "      <td>0</td>\n",
              "      <td>0</td>\n",
              "      <td>1</td>\n",
              "      <td>0</td>\n",
              "      <td>0</td>\n",
              "      <td>1</td>\n",
              "      <td>0</td>\n",
              "      <td>0</td>\n",
              "      <td>1</td>\n",
              "      <td>0</td>\n",
              "      <td>0</td>\n",
              "      <td>1</td>\n",
              "      <td>0</td>\n",
              "      <td>0</td>\n",
              "      <td>0</td>\n",
              "      <td>0</td>\n",
              "      <td>1</td>\n",
              "      <td>0</td>\n",
              "      <td>1</td>\n",
              "      <td>0</td>\n",
              "      <td>0</td>\n",
              "      <td>0</td>\n",
              "      <td>0</td>\n",
              "      <td>0.196178</td>\n",
              "      <td>-0.940457</td>\n",
              "    </tr>\n",
              "  </tbody>\n",
              "</table>\n",
              "</div>"
            ],
            "text/plain": [
              "   gender  SeniorCitizen  ...  MonthlyCharges_1  TotalCharges_1\n",
              "0       0              0  ...         -1.161694       -0.994194\n",
              "1       1              0  ...         -0.260878       -0.173740\n",
              "2       1              0  ...         -0.363923       -0.959649\n",
              "3       1              0  ...         -0.747850       -0.195248\n",
              "4       0              0  ...          0.196178       -0.940457\n",
              "\n",
              "[5 rows x 45 columns]"
            ]
          },
          "metadata": {
            "tags": []
          },
          "execution_count": 14
        }
      ]
    },
    {
      "cell_type": "code",
      "metadata": {
        "scrolled": true,
        "id": "7qFDq8BR3-rc",
        "colab_type": "code",
        "colab": {}
      },
      "source": [
        "from sklearn.model_selection import train_test_split \n",
        "X = data_final.drop('Churn', axis =1)\n",
        "y = data['Churn']\n"
      ],
      "execution_count": 15,
      "outputs": []
    },
    {
      "cell_type": "code",
      "metadata": {
        "id": "demYFADh3-re",
        "colab_type": "code",
        "colab": {
          "base_uri": "https://localhost:8080/",
          "height": 52
        },
        "outputId": "33456564-1579-4d6a-8c00-9b0978c61902"
      },
      "source": [
        "print(X.shape, y.shape)\n",
        "X_train,X_test,y_train,y_test = train_test_split(X,y, test_size = 0.20, random_state = 42)\n",
        "print(X_train.shape,y_train.shape)\n"
      ],
      "execution_count": 16,
      "outputs": [
        {
          "output_type": "stream",
          "text": [
            "(7032, 44) (7032,)\n",
            "(5625, 44) (5625,)\n"
          ],
          "name": "stdout"
        }
      ]
    },
    {
      "cell_type": "code",
      "metadata": {
        "id": "zIzA5sM-3-rh",
        "colab_type": "code",
        "colab": {}
      },
      "source": [
        "from sklearn.model_selection import RandomizedSearchCV,GridSearchCV\n",
        "from sklearn.ensemble import RandomForestClassifier\n",
        "from sklearn.linear_model import LogisticRegression\n",
        "from xgboost import XGBClassifier\n",
        "from sklearn import svm\n",
        "from scipy.stats import randint\n",
        "from sklearn.metrics import confusion_matrix,accuracy_score"
      ],
      "execution_count": 35,
      "outputs": []
    },
    {
      "cell_type": "code",
      "metadata": {
        "id": "xmNmRiEY3-rk",
        "colab_type": "code",
        "colab": {
          "base_uri": "https://localhost:8080/",
          "height": 72
        },
        "outputId": "de1b8680-f8db-46c1-8cbd-4a7a4e26ee00"
      },
      "source": [
        "from sklearn.metrics import confusion_matrix,accuracy_score,classification_report\n",
        "from sklearn.metrics import roc_auc_score,roc_curve,scorer\n",
        "from sklearn.metrics import f1_score\n",
        "from sklearn.metrics import precision_score,recall_score\n",
        "import seaborn as sns"
      ],
      "execution_count": 18,
      "outputs": [
        {
          "output_type": "stream",
          "text": [
            "/usr/local/lib/python3.6/dist-packages/sklearn/utils/deprecation.py:144: FutureWarning: The sklearn.metrics.scorer module is  deprecated in version 0.22 and will be removed in version 0.24. The corresponding classes / functions should instead be imported from sklearn.metrics. Anything that cannot be imported from sklearn.metrics is now part of the private API.\n",
            "  warnings.warn(message, FutureWarning)\n"
          ],
          "name": "stderr"
        }
      ]
    },
    {
      "cell_type": "code",
      "metadata": {
        "id": "PNMfaJS-XXXz",
        "colab_type": "code",
        "colab": {}
      },
      "source": [
        "clf = RandomForestClassifier(n_jobs = -1)\n",
        "\n",
        "random_prams ={\n",
        "    'max_depth': [3,5,1,4,'None'],\n",
        "    'n_estimators': [50,100,200,150,210],\n",
        "    'criterion'   : ['entropy','gini'],\n",
        "    'bootstrap'   : ['True','False'],\n",
        "    'min_samples_leaf' : randint(1,4),\n",
        "   }\n",
        "\n",
        "def hyper_tuning(clf, p_destr, n_iter,X,y):\n",
        "    randsearch = RandomizedSearchCV(clf, param_distributions= p_destr, n_jobs= -1, n_iter=n_iter,cv= 5 )\n",
        "    randsearch.fit(X,y)\n",
        "    ht_params = randsearch.best_params_\n",
        "    ht_score = randsearch.best_score_\n",
        "    return ht_params,ht_score"
      ],
      "execution_count": 27,
      "outputs": []
    },
    {
      "cell_type": "code",
      "metadata": {
        "scrolled": true,
        "id": "Wz2MY00C3-rq",
        "colab_type": "code",
        "colab": {}
      },
      "source": [
        "rf_parameters, rf_score = hyper_tuning(clf,random_prams,10,X,y)"
      ],
      "execution_count": 28,
      "outputs": []
    },
    {
      "cell_type": "code",
      "metadata": {
        "id": "-qkPKX-H3-rs",
        "colab_type": "code",
        "colab": {
          "base_uri": "https://localhost:8080/",
          "height": 35
        },
        "outputId": "1761ae8f-2272-401b-f05f-e87a73462125"
      },
      "source": [
        "print(rf_parameters, rf_score)"
      ],
      "execution_count": 29,
      "outputs": [
        {
          "output_type": "stream",
          "text": [
            "{'bootstrap': 'True', 'criterion': 'gini', 'max_depth': 5, 'min_samples_leaf': 2, 'n_estimators': 210} 0.7949365143394994\n"
          ],
          "name": "stdout"
        }
      ]
    },
    {
      "cell_type": "code",
      "metadata": {
        "id": "CPS6moPw3-ry",
        "colab_type": "code",
        "colab": {
          "base_uri": "https://localhost:8080/",
          "height": 35
        },
        "outputId": "2372df43-0f36-424a-e9f6-9347b63565bf"
      },
      "source": [
        "classifier = RandomForestClassifier(bootstrap= 'True',\n",
        "                                    criterion= 'gini',\n",
        "                                    max_depth= 5,\n",
        "                                    min_samples_leaf= 2,\n",
        "                                    n_estimators= 210)\n",
        "classifier.fit(X_train,y_train)\n",
        "y_predict  = classifier.predict(X_test)\n",
        "accuracy  = accuracy_score(y_test,y_predict)\n",
        "probabilities = classifier.predict_proba(X_test)\n",
        "print('Validation Accuracy is:',round(accuracy,2))"
      ],
      "execution_count": 30,
      "outputs": [
        {
          "output_type": "stream",
          "text": [
            "Validation Accuracy is: 0.78\n"
          ],
          "name": "stdout"
        }
      ]
    },
    {
      "cell_type": "code",
      "metadata": {
        "id": "549ff6ht3-r1",
        "colab_type": "code",
        "colab": {
          "base_uri": "https://localhost:8080/",
          "height": 208
        },
        "outputId": "dec8bd46-6faf-4bf0-9628-50e0004526b4"
      },
      "source": [
        "print (\"\\n Classification report : \\n\",classification_report(y_test,y_predict))"
      ],
      "execution_count": 31,
      "outputs": [
        {
          "output_type": "stream",
          "text": [
            "\n",
            " Classification report : \n",
            "               precision    recall  f1-score   support\n",
            "\n",
            "           0       0.81      0.92      0.86      1033\n",
            "           1       0.65      0.41      0.51       374\n",
            "\n",
            "    accuracy                           0.78      1407\n",
            "   macro avg       0.73      0.67      0.68      1407\n",
            "weighted avg       0.77      0.78      0.77      1407\n",
            "\n"
          ],
          "name": "stdout"
        }
      ]
    },
    {
      "cell_type": "code",
      "metadata": {
        "id": "bwz0bbVx3-r3",
        "colab_type": "code",
        "colab": {
          "base_uri": "https://localhost:8080/",
          "height": 314
        },
        "outputId": "e340809e-d568-44f6-c8ce-30e5265f54cc"
      },
      "source": [
        "# ROC_AUC_SCORE\n",
        "\n",
        "roc_auc = roc_auc_score(y_test,y_predict)\n",
        "print (\"Area under curve : \",roc_auc,\"\\n\")\n",
        "fpr,tpr,thresholds = roc_curve(y_test,probabilities[:,1])\n",
        "\n",
        "# generate a no skill prediction (majority class)\n",
        "ns_probs = [0 for _ in range(len(y_test))]\n",
        "ns_auc = roc_auc_score(y_test, ns_probs)\n",
        "ns_fpr, ns_tpr, _ = roc_curve(y_test, ns_probs)\n",
        "\n",
        "\n",
        "# plot the roc curve for the model\n",
        "plt.plot(ns_fpr, ns_tpr, linestyle='--', label='No Skill')\n",
        "plt.plot(fpr, tpr, marker='.', label='RandomForest')\n",
        "# axis labels\n",
        "plt.xlabel('False Positive Rate')\n",
        "plt.ylabel('True Positive Rate')\n",
        "# show the legend\n",
        "plt.legend()\n",
        "# show the plot\n",
        "plt.show()"
      ],
      "execution_count": 32,
      "outputs": [
        {
          "output_type": "stream",
          "text": [
            "Area under curve :  0.6665609744733941 \n",
            "\n"
          ],
          "name": "stdout"
        },
        {
          "output_type": "display_data",
          "data": {
            "image/png": "[encoded data removed]",
            "text/plain": [
              "<Figure size 432x288 with 1 Axes>"
            ]
          },
          "metadata": {
            "tags": [],
            "needs_background": "light"
          }
        }
      ]
    },
    {
      "cell_type": "code",
      "metadata": {
        "id": "rO6U11Z63-r6",
        "colab_type": "code",
        "colab": {}
      },
      "source": [
        "scores = pd.DataFrame(classifier.feature_importances_)\n",
        "columns= pd.DataFrame(X_train.columns)\n",
        "feature_imp = pd.concat([columns,scores],axis = 1)\n",
        "feature_imp.columns = ['Features','Score']\n"
      ],
      "execution_count": null,
      "outputs": []
    },
    {
      "cell_type": "code",
      "metadata": {
        "id": "iIf6HgL53-r8",
        "colab_type": "code",
        "colab": {}
      },
      "source": [
        " top_5_feature =feature_imp.sort_values(by = 'Score', ascending= False).reset_index(drop = True)[:5]"
      ],
      "execution_count": null,
      "outputs": []
    },
    {
      "cell_type": "code",
      "metadata": {
        "id": "FBRqdhJh3-r-",
        "colab_type": "code",
        "colab": {}
      },
      "source": [
        "#plotting the co efficients\n",
        "\n",
        "f,ax = plt.subplots(figsize = (6,6))\n",
        "sns.barplot(top_5_feature.Score,top_5_feature.Features)\n",
        "plt.show()\n"
      ],
      "execution_count": null,
      "outputs": []
    },
    {
      "cell_type": "code",
      "metadata": {
        "id": "HCCNnswJ3-sA",
        "colab_type": "code",
        "colab": {}
      },
      "source": [
        "# feature selector function \n",
        "import functools\n",
        "from sklearn.feature_selection import f_classif\n",
        "from sklearn.feature_selection import SelectKBest\n",
        "\n",
        "def feature_selection(k_value=2, name='RandomForest', model=XGBClassifier(random_state=42)):\n",
        "  # number features \n",
        "  k=k_value \n",
        "  f_class = functools.partial(f_classif)\n",
        "\n",
        "  # features | label \n",
        "  X = data_final.drop('Churn', axis =1)\n",
        "  y = data['Churn']\n",
        "\n",
        "  # Train test spliting\n",
        "  X_train, X_test, y_train, y_test = train_test_split(X,y, test_size=0.30, random_state=42)\n",
        "\n",
        "  #Filtering features\n",
        "  seletor = SelectKBest(score_func=f_class, k=k)\n",
        "  X_train2 = seletor.fit_transform(X_train, y_train)\n",
        "  X_test2 = seletor.transform(X_test)\n",
        "\n",
        "  # Random Forest Model\n",
        "  mdl = model\n",
        "  mdl.fit(X_train2, y_train)\n",
        "  y_pred = mdl.predict(X_test2)\n",
        "  y_proba = mdl.predict_proba(X_test2)[:,1]\n",
        "\n",
        "  #Metrics\n",
        "  accuracy = round(accuracy_score(y_test, y_pred),2)\n",
        "  precision = round(precision_score(y_test, y_pred),2)\n",
        "  recall = round(recall_score(y_test, y_pred),2)\n",
        "  #precision_recall = round(average_precision_score(y_test, y_proba),2)\n",
        "  auc = round(roc_auc_score(y_test, y_proba),2)\n",
        "  \n",
        "\n",
        "  print('K: {} | Accuracy: {}'.format(k, accuracy))\n",
        "  print('K: {} | Precision: {}'.format(k, precision))\n",
        "  print('K: {} | Recall: {}'.format(k, recall))\n",
        "  #print('K: {} | Precision-Recall: {}'.format(k, precision_recall))\n",
        "  print('K: {} | AUC: {}'.format(k, auc))\n",
        "  print('\\n')\n",
        "  print('\\n')\n",
        "\n",
        "  mask = seletor.get_support()\n",
        "  best_features = X.columns[mask]\n",
        "  print('----- Best {} features {} --------'.format(k, name))\n",
        "  print('\\n')\n",
        "  print(best_features)\n"
      ],
      "execution_count": 51,
      "outputs": []
    },
    {
      "cell_type": "code",
      "metadata": {
        "id": "Q8iYhUyM3-sC",
        "colab_type": "code",
        "colab": {
          "base_uri": "https://localhost:8080/",
          "height": 295
        },
        "outputId": "a2d6c36f-21b7-465e-fe1e-e4de4e6730fe"
      },
      "source": [
        "feature_selection(k_value=10, name='XGBoost', model=XGBClassifier(random_state=42))"
      ],
      "execution_count": 54,
      "outputs": [
        {
          "output_type": "stream",
          "text": [
            "K: 10 | Accuracy: 0.79\n",
            "K: 10 | Precision: 0.62\n",
            "K: 10 | Recall: 0.49\n",
            "K: 10 | AUC: 0.82\n",
            "\n",
            "\n",
            "\n",
            "\n",
            "----- Best 10 features XGBoost --------\n",
            "\n",
            "\n",
            "Index(['InternetService_Fiber optic', 'OnlineSecurity_No', 'OnlineBackup_No',\n",
            "       'DeviceProtection_No', 'TechSupport_No', 'Contract_Month-to-month',\n",
            "       'Contract_Two year', 'PaymentMethod_Electronic check',\n",
            "       'tenure_group_Tenure_0-12', 'tenure_group_Tenure_gt_60'],\n",
            "      dtype='object')\n"
          ],
          "name": "stdout"
        }
      ]
    },
    {
      "cell_type": "code",
      "metadata": {
        "id": "oQOd4IBk3-sE",
        "colab_type": "code",
        "colab": {
          "base_uri": "https://localhost:8080/",
          "height": 295
        },
        "outputId": "da6a98d3-bb1e-4146-9d64-b8251dc87c2d"
      },
      "source": [
        "from sklearn.linear_model import LogisticRegression\n",
        "feature_selection(k_value=10, name='LogisticRegression', model=LogisticRegression(random_state=42))"
      ],
      "execution_count": 55,
      "outputs": [
        {
          "output_type": "stream",
          "text": [
            "K: 10 | Accuracy: 0.79\n",
            "K: 10 | Precision: 0.63\n",
            "K: 10 | Recall: 0.49\n",
            "K: 10 | AUC: 0.83\n",
            "\n",
            "\n",
            "\n",
            "\n",
            "----- Best 10 features LogisticRegression --------\n",
            "\n",
            "\n",
            "Index(['InternetService_Fiber optic', 'OnlineSecurity_No', 'OnlineBackup_No',\n",
            "       'DeviceProtection_No', 'TechSupport_No', 'Contract_Month-to-month',\n",
            "       'Contract_Two year', 'PaymentMethod_Electronic check',\n",
            "       'tenure_group_Tenure_0-12', 'tenure_group_Tenure_gt_60'],\n",
            "      dtype='object')\n"
          ],
          "name": "stdout"
        }
      ]
    },
    {
      "cell_type": "code",
      "metadata": {
        "id": "TLyg65R13-sG",
        "colab_type": "code",
        "colab": {
          "base_uri": "https://localhost:8080/",
          "height": 295
        },
        "outputId": "e13038b0-7bf2-4f8c-d0cd-59449bd3c784"
      },
      "source": [
        "from sklearn.ensemble import RandomForestClassifier\n",
        "feature_selection(k_value=10, name='RandomForest', model=RandomForestClassifier(random_state=42))"
      ],
      "execution_count": 56,
      "outputs": [
        {
          "output_type": "stream",
          "text": [
            "K: 10 | Accuracy: 0.79\n",
            "K: 10 | Precision: 0.62\n",
            "K: 10 | Recall: 0.51\n",
            "K: 10 | AUC: 0.81\n",
            "\n",
            "\n",
            "\n",
            "\n",
            "----- Best 10 features RandomForest --------\n",
            "\n",
            "\n",
            "Index(['InternetService_Fiber optic', 'OnlineSecurity_No', 'OnlineBackup_No',\n",
            "       'DeviceProtection_No', 'TechSupport_No', 'Contract_Month-to-month',\n",
            "       'Contract_Two year', 'PaymentMethod_Electronic check',\n",
            "       'tenure_group_Tenure_0-12', 'tenure_group_Tenure_gt_60'],\n",
            "      dtype='object')\n"
          ],
          "name": "stdout"
        }
      ]
    },
    {
      "cell_type": "code",
      "metadata": {
        "id": "rm0siZkk3-sI",
        "colab_type": "code",
        "colab": {}
      },
      "source": [
        ""
      ],
      "execution_count": null,
      "outputs": []
    }
  ]
}