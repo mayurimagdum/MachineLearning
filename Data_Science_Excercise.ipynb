{
  "nbformat": 4,
  "nbformat_minor": 0,
  "metadata": {
    "colab": {
      "name": "Data Science Excercise.ipynb",
      "provenance": [],
      "collapsed_sections": []
    },
    "kernelspec": {
      "name": "python3",
      "display_name": "Python 3"
    },
    "accelerator": "GPU"
  },
  "cells": [
    {
      "cell_type": "markdown",
      "metadata": {
        "id": "cRa8p_FjjYrz",
        "colab_type": "text"
      },
      "source": [
        "**DATA EXPLORATION**\n",
        "\n",
        "\n"
      ]
    },
    {
      "cell_type": "code",
      "metadata": {
        "id": "u_dOgEudLnHJ",
        "colab_type": "code",
        "colab": {}
      },
      "source": [
        "import os\n",
        "import pandas as pd\n",
        "import matplotlib.pyplot as plt\n",
        "import tensorflow as tf\n",
        "import numpy as np"
      ],
      "execution_count": 0,
      "outputs": []
    },
    {
      "cell_type": "code",
      "metadata": {
        "id": "2ZLjWoc_LrBM",
        "colab_type": "code",
        "colab": {
          "base_uri": "https://localhost:8080/",
          "height": 195
        },
        "outputId": "bd44ffbd-ab1a-4140-ca7b-0d3f5198da17"
      },
      "source": [
        "names = ['timestamp','par1','par2','par3','par4']\n",
        "data = pd.read_csv('/content/machine_0.csv',names= names)\n",
        "df = data[1:]\n",
        "df.head()"
      ],
      "execution_count": 168,
      "outputs": [
        {
          "output_type": "execute_result",
          "data": {
            "text/html": [
              "<div>\n",
              "<style scoped>\n",
              "    .dataframe tbody tr th:only-of-type {\n",
              "        vertical-align: middle;\n",
              "    }\n",
              "\n",
              "    .dataframe tbody tr th {\n",
              "        vertical-align: top;\n",
              "    }\n",
              "\n",
              "    .dataframe thead th {\n",
              "        text-align: right;\n",
              "    }\n",
              "</style>\n",
              "<table border=\"1\" class=\"dataframe\">\n",
              "  <thead>\n",
              "    <tr style=\"text-align: right;\">\n",
              "      <th></th>\n",
              "      <th>timestamp</th>\n",
              "      <th>par1</th>\n",
              "      <th>par2</th>\n",
              "      <th>par3</th>\n",
              "      <th>par4</th>\n",
              "    </tr>\n",
              "  </thead>\n",
              "  <tbody>\n",
              "    <tr>\n",
              "      <th>1</th>\n",
              "      <td>2019-01-01 00:00:00.000000000</td>\n",
              "      <td>12.626096</td>\n",
              "      <td>8.803120</td>\n",
              "      <td>-11.809200</td>\n",
              "      <td>10.083961</td>\n",
              "    </tr>\n",
              "    <tr>\n",
              "      <th>2</th>\n",
              "      <td>2019-01-01 08:00:09.603201067</td>\n",
              "      <td>10.831994</td>\n",
              "      <td>2.816327</td>\n",
              "      <td>11.554778</td>\n",
              "      <td>21.892853</td>\n",
              "    </tr>\n",
              "    <tr>\n",
              "      <th>3</th>\n",
              "      <td>2019-01-01 16:00:19.206402134</td>\n",
              "      <td>21.083510</td>\n",
              "      <td>-0.672645</td>\n",
              "      <td>-17.839178</td>\n",
              "      <td>-1.349024</td>\n",
              "    </tr>\n",
              "    <tr>\n",
              "      <th>4</th>\n",
              "      <td>2019-01-02 00:00:28.809603201</td>\n",
              "      <td>32.294495</td>\n",
              "      <td>6.525132</td>\n",
              "      <td>-13.498586</td>\n",
              "      <td>-4.250752</td>\n",
              "    </tr>\n",
              "    <tr>\n",
              "      <th>5</th>\n",
              "      <td>2019-01-02 08:00:38.412804268</td>\n",
              "      <td>28.057100</td>\n",
              "      <td>3.691359</td>\n",
              "      <td>21.984744</td>\n",
              "      <td>13.670561</td>\n",
              "    </tr>\n",
              "  </tbody>\n",
              "</table>\n",
              "</div>"
            ],
            "text/plain": [
              "                       timestamp       par1      par2       par3       par4\n",
              "1  2019-01-01 00:00:00.000000000  12.626096  8.803120 -11.809200  10.083961\n",
              "2  2019-01-01 08:00:09.603201067  10.831994  2.816327  11.554778  21.892853\n",
              "3  2019-01-01 16:00:19.206402134  21.083510 -0.672645 -17.839178  -1.349024\n",
              "4  2019-01-02 00:00:28.809603201  32.294495  6.525132 -13.498586  -4.250752\n",
              "5  2019-01-02 08:00:38.412804268  28.057100  3.691359  21.984744  13.670561"
            ]
          },
          "metadata": {
            "tags": []
          },
          "execution_count": 168
        }
      ]
    },
    {
      "cell_type": "code",
      "metadata": {
        "id": "Vl9p1MbJQPXB",
        "colab_type": "code",
        "colab": {
          "base_uri": "https://localhost:8080/",
          "height": 296
        },
        "outputId": "3444d3fb-2717-4c82-af79-0c47c4e92caf"
      },
      "source": [
        "\n",
        "df['timestamp']=pd.to_datetime(df['timestamp'])\n",
        "df.head()\n"
      ],
      "execution_count": 169,
      "outputs": [
        {
          "output_type": "stream",
          "text": [
            "/usr/local/lib/python3.6/dist-packages/ipykernel_launcher.py:2: SettingWithCopyWarning: \n",
            "A value is trying to be set on a copy of a slice from a DataFrame.\n",
            "Try using .loc[row_indexer,col_indexer] = value instead\n",
            "\n",
            "See the caveats in the documentation: http://pandas.pydata.org/pandas-docs/stable/user_guide/indexing.html#returning-a-view-versus-a-copy\n",
            "  \n"
          ],
          "name": "stderr"
        },
        {
          "output_type": "execute_result",
          "data": {
            "text/html": [
              "<div>\n",
              "<style scoped>\n",
              "    .dataframe tbody tr th:only-of-type {\n",
              "        vertical-align: middle;\n",
              "    }\n",
              "\n",
              "    .dataframe tbody tr th {\n",
              "        vertical-align: top;\n",
              "    }\n",
              "\n",
              "    .dataframe thead th {\n",
              "        text-align: right;\n",
              "    }\n",
              "</style>\n",
              "<table border=\"1\" class=\"dataframe\">\n",
              "  <thead>\n",
              "    <tr style=\"text-align: right;\">\n",
              "      <th></th>\n",
              "      <th>timestamp</th>\n",
              "      <th>par1</th>\n",
              "      <th>par2</th>\n",
              "      <th>par3</th>\n",
              "      <th>par4</th>\n",
              "    </tr>\n",
              "  </thead>\n",
              "  <tbody>\n",
              "    <tr>\n",
              "      <th>1</th>\n",
              "      <td>2019-01-01 00:00:00.000000000</td>\n",
              "      <td>12.626096</td>\n",
              "      <td>8.803120</td>\n",
              "      <td>-11.809200</td>\n",
              "      <td>10.083961</td>\n",
              "    </tr>\n",
              "    <tr>\n",
              "      <th>2</th>\n",
              "      <td>2019-01-01 08:00:09.603201067</td>\n",
              "      <td>10.831994</td>\n",
              "      <td>2.816327</td>\n",
              "      <td>11.554778</td>\n",
              "      <td>21.892853</td>\n",
              "    </tr>\n",
              "    <tr>\n",
              "      <th>3</th>\n",
              "      <td>2019-01-01 16:00:19.206402134</td>\n",
              "      <td>21.083510</td>\n",
              "      <td>-0.672645</td>\n",
              "      <td>-17.839178</td>\n",
              "      <td>-1.349024</td>\n",
              "    </tr>\n",
              "    <tr>\n",
              "      <th>4</th>\n",
              "      <td>2019-01-02 00:00:28.809603201</td>\n",
              "      <td>32.294495</td>\n",
              "      <td>6.525132</td>\n",
              "      <td>-13.498586</td>\n",
              "      <td>-4.250752</td>\n",
              "    </tr>\n",
              "    <tr>\n",
              "      <th>5</th>\n",
              "      <td>2019-01-02 08:00:38.412804268</td>\n",
              "      <td>28.057100</td>\n",
              "      <td>3.691359</td>\n",
              "      <td>21.984744</td>\n",
              "      <td>13.670561</td>\n",
              "    </tr>\n",
              "  </tbody>\n",
              "</table>\n",
              "</div>"
            ],
            "text/plain": [
              "                      timestamp       par1      par2       par3       par4\n",
              "1 2019-01-01 00:00:00.000000000  12.626096  8.803120 -11.809200  10.083961\n",
              "2 2019-01-01 08:00:09.603201067  10.831994  2.816327  11.554778  21.892853\n",
              "3 2019-01-01 16:00:19.206402134  21.083510 -0.672645 -17.839178  -1.349024\n",
              "4 2019-01-02 00:00:28.809603201  32.294495  6.525132 -13.498586  -4.250752\n",
              "5 2019-01-02 08:00:38.412804268  28.057100  3.691359  21.984744  13.670561"
            ]
          },
          "metadata": {
            "tags": []
          },
          "execution_count": 169
        }
      ]
    },
    {
      "cell_type": "code",
      "metadata": {
        "id": "HkXb0T8mzLg9",
        "colab_type": "code",
        "colab": {
          "base_uri": "https://localhost:8080/",
          "height": 284
        },
        "outputId": "d4775208-c311-467f-fd5c-0d201ccff200"
      },
      "source": [
        "df.describe()"
      ],
      "execution_count": 170,
      "outputs": [
        {
          "output_type": "execute_result",
          "data": {
            "text/html": [
              "<div>\n",
              "<style scoped>\n",
              "    .dataframe tbody tr th:only-of-type {\n",
              "        vertical-align: middle;\n",
              "    }\n",
              "\n",
              "    .dataframe tbody tr th {\n",
              "        vertical-align: top;\n",
              "    }\n",
              "\n",
              "    .dataframe thead th {\n",
              "        text-align: right;\n",
              "    }\n",
              "</style>\n",
              "<table border=\"1\" class=\"dataframe\">\n",
              "  <thead>\n",
              "    <tr style=\"text-align: right;\">\n",
              "      <th></th>\n",
              "      <th>par1</th>\n",
              "      <th>par2</th>\n",
              "      <th>par3</th>\n",
              "      <th>par4</th>\n",
              "    </tr>\n",
              "  </thead>\n",
              "  <tbody>\n",
              "    <tr>\n",
              "      <th>count</th>\n",
              "      <td>3000.000000</td>\n",
              "      <td>3000.000000</td>\n",
              "      <td>3000.000000</td>\n",
              "      <td>3000.000000</td>\n",
              "    </tr>\n",
              "    <tr>\n",
              "      <th>mean</th>\n",
              "      <td>-0.816016</td>\n",
              "      <td>-1.091308</td>\n",
              "      <td>1.267945</td>\n",
              "      <td>0.165844</td>\n",
              "    </tr>\n",
              "    <tr>\n",
              "      <th>std</th>\n",
              "      <td>58.078319</td>\n",
              "      <td>55.965665</td>\n",
              "      <td>56.538700</td>\n",
              "      <td>56.910659</td>\n",
              "    </tr>\n",
              "    <tr>\n",
              "      <th>min</th>\n",
              "      <td>-323.954437</td>\n",
              "      <td>-258.780879</td>\n",
              "      <td>-287.153920</td>\n",
              "      <td>-365.362164</td>\n",
              "    </tr>\n",
              "    <tr>\n",
              "      <th>25%</th>\n",
              "      <td>-0.008684</td>\n",
              "      <td>-0.008851</td>\n",
              "      <td>-0.008274</td>\n",
              "      <td>-0.007883</td>\n",
              "    </tr>\n",
              "    <tr>\n",
              "      <th>50%</th>\n",
              "      <td>-0.000402</td>\n",
              "      <td>-0.000085</td>\n",
              "      <td>0.000669</td>\n",
              "      <td>0.000310</td>\n",
              "    </tr>\n",
              "    <tr>\n",
              "      <th>75%</th>\n",
              "      <td>0.007832</td>\n",
              "      <td>0.008373</td>\n",
              "      <td>0.009056</td>\n",
              "      <td>0.008685</td>\n",
              "    </tr>\n",
              "    <tr>\n",
              "      <th>max</th>\n",
              "      <td>315.738951</td>\n",
              "      <td>264.374782</td>\n",
              "      <td>281.684102</td>\n",
              "      <td>340.513819</td>\n",
              "    </tr>\n",
              "  </tbody>\n",
              "</table>\n",
              "</div>"
            ],
            "text/plain": [
              "              par1         par2         par3         par4\n",
              "count  3000.000000  3000.000000  3000.000000  3000.000000\n",
              "mean     -0.816016    -1.091308     1.267945     0.165844\n",
              "std      58.078319    55.965665    56.538700    56.910659\n",
              "min    -323.954437  -258.780879  -287.153920  -365.362164\n",
              "25%      -0.008684    -0.008851    -0.008274    -0.007883\n",
              "50%      -0.000402    -0.000085     0.000669     0.000310\n",
              "75%       0.007832     0.008373     0.009056     0.008685\n",
              "max     315.738951   264.374782   281.684102   340.513819"
            ]
          },
          "metadata": {
            "tags": []
          },
          "execution_count": 170
        }
      ]
    },
    {
      "cell_type": "code",
      "metadata": {
        "id": "iFDtCUFAwe2K",
        "colab_type": "code",
        "colab": {
          "base_uri": "https://localhost:8080/",
          "height": 1000
        },
        "outputId": "6c09f100-8e85-4c27-e43e-89ed91f5b85e"
      },
      "source": [
        "#plot some of the columns to get an idea of the trends over time\n",
        "df.plot(x=\"timestamp\", y=\"par1\", kind=\"line\")\n",
        "df.plot(x=\"timestamp\", y=\"par2\", kind=\"line\")\n",
        "df.plot(x=\"timestamp\", y=\"par3\", kind=\"line\")\n",
        "df.plot(x=\"timestamp\", y=\"par4\", kind=\"line\")"
      ],
      "execution_count": 171,
      "outputs": [
        {
          "output_type": "execute_result",
          "data": {
            "text/plain": [
              "<matplotlib.axes._subplots.AxesSubplot at 0x7f0497a4abe0>"
            ]
          },
          "metadata": {
            "tags": []
          },
          "execution_count": 171
        },
        {
          "output_type": "display_data",
          "data": {
            "image/png": "[encoded data removed]",
            "text/plain": [
              "<Figure size 432x288 with 1 Axes>"
            ]
          },
          "metadata": {
            "tags": []
          }
        },
        {
          "output_type": "display_data",
          "data": {
            "image/png": "[encoded data removed]",
            "text/plain": [
              "<Figure size 432x288 with 1 Axes>"
            ]
          },
          "metadata": {
            "tags": []
          }
        },
        {
          "output_type": "display_data",
          "data": {
            "image/png": "[encoded data removed]",
            "text/plain": [
              "<Figure size 432x288 with 1 Axes>"
            ]
          },
          "metadata": {
            "tags": []
          }
        },
        {
          "output_type": "display_data",
          "data": {
            "image/png": "[encoded data removed]",
            "text/plain": [
              "<Figure size 432x288 with 1 Axes>"
            ]
          },
          "metadata": {
            "tags": []
          }
        }
      ]
    },
    {
      "cell_type": "code",
      "metadata": {
        "id": "_XfyerQ_PQ-z",
        "colab_type": "code",
        "colab": {
          "base_uri": "https://localhost:8080/",
          "height": 118
        },
        "outputId": "627ca1fe-8b4f-4b16-e8dc-855dbe0f7a62"
      },
      "source": [
        "df['Total']= df.select_dtypes(include=['float64','float32']).apply(lambda row: np.sum(row),axis=1)"
      ],
      "execution_count": 163,
      "outputs": [
        {
          "output_type": "stream",
          "text": [
            "/usr/local/lib/python3.6/dist-packages/ipykernel_launcher.py:1: SettingWithCopyWarning: \n",
            "A value is trying to be set on a copy of a slice from a DataFrame.\n",
            "Try using .loc[row_indexer,col_indexer] = value instead\n",
            "\n",
            "See the caveats in the documentation: http://pandas.pydata.org/pandas-docs/stable/user_guide/indexing.html#returning-a-view-versus-a-copy\n",
            "  \"\"\"Entry point for launching an IPython kernel.\n"
          ],
          "name": "stderr"
        }
      ]
    },
    {
      "cell_type": "code",
      "metadata": {
        "id": "ia30V3BxPVHP",
        "colab_type": "code",
        "colab": {
          "base_uri": "https://localhost:8080/",
          "height": 195
        },
        "outputId": "31f0c897-1b81-483f-b646-4bfe14c767e3"
      },
      "source": [
        "df.head()"
      ],
      "execution_count": 164,
      "outputs": [
        {
          "output_type": "execute_result",
          "data": {
            "text/html": [
              "<div>\n",
              "<style scoped>\n",
              "    .dataframe tbody tr th:only-of-type {\n",
              "        vertical-align: middle;\n",
              "    }\n",
              "\n",
              "    .dataframe tbody tr th {\n",
              "        vertical-align: top;\n",
              "    }\n",
              "\n",
              "    .dataframe thead th {\n",
              "        text-align: right;\n",
              "    }\n",
              "</style>\n",
              "<table border=\"1\" class=\"dataframe\">\n",
              "  <thead>\n",
              "    <tr style=\"text-align: right;\">\n",
              "      <th></th>\n",
              "      <th>timestamp</th>\n",
              "      <th>par1</th>\n",
              "      <th>par2</th>\n",
              "      <th>par3</th>\n",
              "      <th>par4</th>\n",
              "      <th>Total</th>\n",
              "    </tr>\n",
              "  </thead>\n",
              "  <tbody>\n",
              "    <tr>\n",
              "      <th>1</th>\n",
              "      <td>2019-01-01 00:00:00.000000000</td>\n",
              "      <td>12.588243</td>\n",
              "      <td>8.829718</td>\n",
              "      <td>-11.803474</td>\n",
              "      <td>10.083107</td>\n",
              "      <td>19.697594</td>\n",
              "    </tr>\n",
              "    <tr>\n",
              "      <th>2</th>\n",
              "      <td>2019-01-01 08:00:09.603201067</td>\n",
              "      <td>10.822199</td>\n",
              "      <td>2.795246</td>\n",
              "      <td>11.560279</td>\n",
              "      <td>21.898688</td>\n",
              "      <td>47.076412</td>\n",
              "    </tr>\n",
              "    <tr>\n",
              "      <th>3</th>\n",
              "      <td>2019-01-01 16:00:19.206402134</td>\n",
              "      <td>21.074661</td>\n",
              "      <td>-0.655051</td>\n",
              "      <td>-17.840580</td>\n",
              "      <td>-1.346748</td>\n",
              "      <td>1.232282</td>\n",
              "    </tr>\n",
              "    <tr>\n",
              "      <th>4</th>\n",
              "      <td>2019-01-02 00:00:28.809603201</td>\n",
              "      <td>32.284431</td>\n",
              "      <td>6.544655</td>\n",
              "      <td>-13.498907</td>\n",
              "      <td>-4.281704</td>\n",
              "      <td>21.048474</td>\n",
              "    </tr>\n",
              "    <tr>\n",
              "      <th>5</th>\n",
              "      <td>2019-01-02 08:00:38.412804268</td>\n",
              "      <td>28.073949</td>\n",
              "      <td>253.681988</td>\n",
              "      <td>271.983917</td>\n",
              "      <td>263.627071</td>\n",
              "      <td>817.366924</td>\n",
              "    </tr>\n",
              "  </tbody>\n",
              "</table>\n",
              "</div>"
            ],
            "text/plain": [
              "                      timestamp       par1  ...        par4       Total\n",
              "1 2019-01-01 00:00:00.000000000  12.588243  ...   10.083107   19.697594\n",
              "2 2019-01-01 08:00:09.603201067  10.822199  ...   21.898688   47.076412\n",
              "3 2019-01-01 16:00:19.206402134  21.074661  ...   -1.346748    1.232282\n",
              "4 2019-01-02 00:00:28.809603201  32.284431  ...   -4.281704   21.048474\n",
              "5 2019-01-02 08:00:38.412804268  28.073949  ...  263.627071  817.366924\n",
              "\n",
              "[5 rows x 6 columns]"
            ]
          },
          "metadata": {
            "tags": []
          },
          "execution_count": 164
        }
      ]
    },
    {
      "cell_type": "markdown",
      "metadata": {
        "id": "Dj5NVMU_h43o",
        "colab_type": "text"
      },
      "source": [
        "**In order to recognize the noise signals I am adding up all 4 signal outputs and plotting them as time series data**"
      ]
    },
    {
      "cell_type": "code",
      "metadata": {
        "id": "alN1DRO2gU72",
        "colab_type": "code",
        "colab": {
          "base_uri": "https://localhost:8080/",
          "height": 298
        },
        "outputId": "cfcf25ec-ec36-41d4-e056-8a121c68a86e"
      },
      "source": [
        "\n",
        "timeseries = pd.Series(df['Total'])\n",
        "timeseries.plot(c = 'orange', title = 'Aggregated Signal values')"
      ],
      "execution_count": 92,
      "outputs": [
        {
          "output_type": "execute_result",
          "data": {
            "text/plain": [
              "<matplotlib.axes._subplots.AxesSubplot at 0x7f0500b8eb70>"
            ]
          },
          "metadata": {
            "tags": []
          },
          "execution_count": 92
        },
        {
          "output_type": "display_data",
          "data": {
            "image/png": "[encoded data removed]",
            "text/plain": [
              "<Figure size 432x288 with 1 Axes>"
            ]
          },
          "metadata": {
            "tags": []
          }
        }
      ]
    },
    {
      "cell_type": "markdown",
      "metadata": {
        "id": "9SoSE8C5ijRo",
        "colab_type": "text"
      },
      "source": [
        "**The spikes in the plot above indicates the noise and hence indication of the failure of the machine**"
      ]
    },
    {
      "cell_type": "markdown",
      "metadata": {
        "id": "FQ7JuS9cjqd_",
        "colab_type": "text"
      },
      "source": [
        "**DATA PREPARATION AND MODEL BULDING**"
      ]
    },
    {
      "cell_type": "code",
      "metadata": {
        "id": "ynh2k487i8xf",
        "colab_type": "code",
        "colab": {}
      },
      "source": [
        "# Preparing data \n",
        "Future_period = 65\n",
        "f_horizon = 1          # Number of periods we are forecasting\n",
        "ts_array = np.array(timeseries)\n",
        "#print(ts_array[:5])\n",
        "#print(len(ts_array))"
      ],
      "execution_count": 0,
      "outputs": []
    },
    {
      "cell_type": "code",
      "metadata": {
        "id": "EDSKQXC2k0uF",
        "colab_type": "code",
        "colab": {
          "base_uri": "https://localhost:8080/",
          "height": 50
        },
        "outputId": "a17312d6-1b3c-4eec-f636-8498b2672caf"
      },
      "source": [
        "# Preparing training X data \n",
        "X_train = ts_array[:(len(ts_array)-(len(ts_array) % Future_period))]\n",
        "#print(len(X_train))\n",
        "#print(X_train[:10])\n",
        "x_batches = X_train.reshape(-1, Future_period, 1)\n",
        "print (len(x_batches))\n",
        "print (x_batches.shape)\n",
        "#print (x_batches[0:3])"
      ],
      "execution_count": 104,
      "outputs": [
        {
          "output_type": "stream",
          "text": [
            "46\n",
            "(46, 65, 1)\n"
          ],
          "name": "stdout"
        }
      ]
    },
    {
      "cell_type": "code",
      "metadata": {
        "id": "RuqAcDQ4oHc8",
        "colab_type": "code",
        "colab": {
          "base_uri": "https://localhost:8080/",
          "height": 84
        },
        "outputId": "50bdb4fb-ae02-4cc5-d233-a7d21fd1b71c"
      },
      "source": [
        "# Creating training output dataset\n",
        "y_train =  ts_array[1:(len(ts_array)-(len(ts_array) % Future_period))+f_horizon]\n",
        "#print(y_train[:5])\n",
        "#print(len(y_train))\n",
        "#print(y_train.shape)\n",
        "y_baches = y_train.reshape(-1, Future_period, 1)\n",
        "#print(len(y_baches))\n",
        "\n"
      ],
      "execution_count": 106,
      "outputs": [
        {
          "output_type": "stream",
          "text": [
            "[47.09595164  1.2226637  21.0702889  67.40376361 26.47334236]\n",
            "2990\n",
            "(2990,)\n",
            "46\n"
          ],
          "name": "stdout"
        }
      ]
    },
    {
      "cell_type": "code",
      "metadata": {
        "id": "yJ4irzJZlRxt",
        "colab_type": "code",
        "colab": {}
      },
      "source": [
        "#create our test X and y data\n",
        "def test_data(series,forecast,Future_period):\n",
        "    test_x_setup = series[-(Future_period + forecast):]\n",
        "    testX = test_x_setup[:Future_period].reshape(-1, Future_period, 1)\n",
        "    testY = ts_array[-(Future_period):].reshape(-1, Future_period, 1)\n",
        "    return testX,testY"
      ],
      "execution_count": 0,
      "outputs": []
    },
    {
      "cell_type": "code",
      "metadata": {
        "id": "xm7ob1e82y1-",
        "colab_type": "code",
        "colab": {}
      },
      "source": [
        "X_test, Y_test = test_data(ts_array,f_horizon,Future_period)\n",
        "#print (X_test.shape)\n",
        "#print (X_test[:,(Future_period-1):Future_period])\n",
        "#print (Y_test.shape)\n",
        "#print (Y_test[:,(Future_period-1):Future_period])\n"
      ],
      "execution_count": 0,
      "outputs": []
    },
    {
      "cell_type": "code",
      "metadata": {
        "id": "qzHvqD_W3BQB",
        "colab_type": "code",
        "colab": {}
      },
      "source": [
        "import tensorflow as tf\n",
        "import shutil\n",
        "import tensorflow.contrib.learn as tflearn\n",
        "import tensorflow.contrib.layers as tflayers\n",
        "from tensorflow.contrib.learn.python.learn import learn_runner\n",
        "import tensorflow.contrib.metrics as metrics\n",
        "import tensorflow.contrib.rnn as rnn"
      ],
      "execution_count": 0,
      "outputs": []
    },
    {
      "cell_type": "code",
      "metadata": {
        "id": "UEN8e2Dx3Ns_",
        "colab_type": "code",
        "colab": {}
      },
      "source": [
        "tf.reset_default_graph()\n",
        "\n",
        "inputt = 1\n",
        "hidden = 200\n",
        "output = 1\n",
        "\n",
        "\n",
        "X = tf.placeholder(tf.float32, [None, Future_period, inputt], name = \"X\")   #create variable objects\n",
        "y = tf.placeholder(tf.float32, [None, Future_period, output], name = \"y\")   #create variable objects\n"
      ],
      "execution_count": 0,
      "outputs": []
    },
    {
      "cell_type": "code",
      "metadata": {
        "id": "zSJ7qQef3R_o",
        "colab_type": "code",
        "colab": {}
      },
      "source": [
        "basic_cell = tf.contrib.rnn.BasicRNNCell(num_units=hidden, activation=tf.nn.relu)\n",
        "rnn_output, states = tf.nn.dynamic_rnn(basic_cell, X, dtype=tf.float32) "
      ],
      "execution_count": 0,
      "outputs": []
    },
    {
      "cell_type": "code",
      "metadata": {
        "id": "mkdr3idN56JH",
        "colab_type": "code",
        "colab": {}
      },
      "source": [
        "LR = 0.001\n",
        "stacked_rnn_output = tf.reshape(rnn_output, [-1, hidden])           #change the form into a tensor\n",
        "stacked_outputs = tf.layers.dense(stacked_rnn_output, output)        #specify the type of layer (dense)\n",
        "outputs = tf.reshape(stacked_outputs, [-1, Future_period, output])          #shape of results\n",
        " "
      ],
      "execution_count": 0,
      "outputs": []
    },
    {
      "cell_type": "code",
      "metadata": {
        "id": "BxIkSNme6HKp",
        "colab_type": "code",
        "colab": {}
      },
      "source": [
        "loss = tf.reduce_sum(tf.square(outputs - y),name='loss')                 #define the cost function which evaluates the quality of our model\n",
        "optimizer = tf.train.AdamOptimizer(learning_rate=LR)          #gradient descent method\n",
        "training_op = optimizer.minimize(loss)                                   #train the result of the application of the cost_function          "
      ],
      "execution_count": 0,
      "outputs": []
    },
    {
      "cell_type": "code",
      "metadata": {
        "id": "Ja9Z0zl_6WAH",
        "colab_type": "code",
        "colab": {
          "base_uri": "https://localhost:8080/",
          "height": 50
        },
        "outputId": "d2f1c410-5070-4654-f5e7-f4dcd896ced6"
      },
      "source": [
        "init = tf.global_variables_initializer()\n",
        "\n",
        "epochs = 1000     #number of iterations or training cycles, includes both the FeedFoward and Backpropogation\n",
        "saver = tf.train.Saver()   #we are going to save the model\n",
        "DIR=\"/content/sample_data\"  #path where the model will be saved\n",
        "\n",
        "with tf.Session() as sess:\n",
        "    init.run()\n",
        "    for ep in range(epochs):\n",
        "        sess.run(training_op, feed_dict={X: x_batches, y: y_baches})\n",
        "        if ep % 1000 == 0:\n",
        "            mse = loss.eval(feed_dict={X: x_batches, y: y_baches})\n",
        "            print(ep, \"\\tMSE:\", mse) \n",
        "            \n",
        "    y_pred = sess.run(outputs, feed_dict={X: X_test})\n",
        "    print(y_pred[:,(Future_period-1):Future_period])\n",
        "    saver.save(sess, os.path.join(DIR,\"IoT_TF_model\"),global_step = epochs)"
      ],
      "execution_count": 178,
      "outputs": [
        {
          "output_type": "stream",
          "text": [
            "0 \tMSE: 38633410.0\n",
            "[[[304.29962]]]\n"
          ],
          "name": "stdout"
        }
      ]
    },
    {
      "cell_type": "code",
      "metadata": {
        "id": "Riq1MrWa6liM",
        "colab_type": "code",
        "colab": {
          "base_uri": "https://localhost:8080/",
          "height": 296
        },
        "outputId": "705c87bb-44ae-4861-84e0-584a414e4c18"
      },
      "source": [
        "#Plotting test y data and our y-predicted forecast\n",
        "plt.title(\"Forecast vs Actual\", fontsize=14)\n",
        "plt.plot(pd.Series(np.ravel(Y_test)), \"bo\", markersize=10, label=\"Actual\")\n",
        "#plt.plot(pd.Series(np.ravel(Y_test)), \"w*\", markersize=10)\n",
        "plt.plot(pd.Series(np.ravel(y_pred)), \"r.\", markersize=10, label=\"Forecast\")\n",
        "plt.legend(loc=\"upper right\")\n",
        "plt.xlabel(\"Time Periods\")\n",
        "plt.show()"
      ],
      "execution_count": 179,
      "outputs": [
        {
          "output_type": "display_data",
          "data": {
            "image/png": "[encoded data removed]",
            "text/plain": [
              "<Figure size 432x288 with 1 Axes>"
            ]
          },
          "metadata": {
            "tags": []
          }
        }
      ]
    },
    {
      "cell_type": "code",
      "metadata": {
        "id": "YSWflpTY7J55",
        "colab_type": "code",
        "colab": {}
      },
      "source": [
        ""
      ],
      "execution_count": 0,
      "outputs": []
    }
  ]
}