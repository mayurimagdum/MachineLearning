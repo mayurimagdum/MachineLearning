{
  "nbformat": 4,
  "nbformat_minor": 0,
  "metadata": {
    "colab": {
      "name": "Stock Predictions.ipynb",
      "provenance": [],
      "include_colab_link": true
    },
    "kernelspec": {
      "name": "python3",
      "display_name": "Python 3"
    },
    "accelerator": "GPU"
  },
  "cells": [
    {
      "cell_type": "markdown",
      "metadata": {
        "id": "view-in-github",
        "colab_type": "text"
      },
      "source": [
        "<a href=\"https://colab.research.google.com/github/mayurimagdum/MachineLearning/blob/master/Stock_Predictions.ipynb\" target=\"_parent\"><img src=\"https://colab.research.google.com/assets/colab-badge.svg\" alt=\"Open In Colab\"/></a>"
      ]
    },
    {
      "cell_type": "code",
      "metadata": {
        "id": "L7FdXWeMXfuJ",
        "colab_type": "code",
        "colab": {}
      },
      "source": [
        "import matplotlib.pyplot as plt\n",
        "import numpy as np\n",
        "import pandas as pd\n",
        "% matplotlib inline"
      ],
      "execution_count": 0,
      "outputs": []
    },
    {
      "cell_type": "code",
      "metadata": {
        "id": "GX4hkrfJX2ru",
        "colab_type": "code",
        "colab": {}
      },
      "source": [
        "data_train = pd.read_csv('/content/Google_Stock_Price_Train.csv')\n",
        "train = data_train.iloc[:, 1:2].values\n"
      ],
      "execution_count": 0,
      "outputs": []
    },
    {
      "cell_type": "code",
      "metadata": {
        "id": "RSeUaGysYHEX",
        "colab_type": "code",
        "colab": {}
      },
      "source": [
        "# preprocessing \n",
        "from sklearn.preprocessing import MinMaxScaler\n",
        "sc = MinMaxScaler(feature_range = (0,1))\n",
        "train_scaled = sc.fit_transform(train)"
      ],
      "execution_count": 0,
      "outputs": []
    },
    {
      "cell_type": "code",
      "metadata": {
        "id": "gukq0qSSgfGN",
        "colab_type": "code",
        "colab": {}
      },
      "source": [
        "# Creating data structure with 60 times\n",
        "X_train = []\n",
        "y_train = []\n",
        "\n",
        "for i in range( 60, len(train_scaled)):\n",
        "  X_train.append(train_scaled[i-60:i, 0])\n",
        "  y_train.append(train_scaled[i,0])\n",
        "\n",
        "X_train,y_train = np.array(X_train),np.array(y_train)\n"
      ],
      "execution_count": 0,
      "outputs": []
    },
    {
      "cell_type": "code",
      "metadata": {
        "id": "FuB0xNQRmOSX",
        "colab_type": "code",
        "colab": {}
      },
      "source": [
        "# Reshaping \n",
        "\n",
        "X_train = np.reshape(X_train,(X_train.shape[0], X_train.shape[1],1))"
      ],
      "execution_count": 0,
      "outputs": []
    },
    {
      "cell_type": "code",
      "metadata": {
        "id": "7Kp54Weznd9q",
        "colab_type": "code",
        "colab": {
          "base_uri": "https://localhost:8080/",
          "height": 34
        },
        "outputId": "6da864ee-e695-4253-cffb-93e131237926"
      },
      "source": [
        "# Building RNN\n",
        "\n",
        "from keras.models import Sequential\n",
        "from keras.layers import Dense\n",
        "from keras.layers import LSTM\n",
        "from keras.layers import Dropout"
      ],
      "execution_count": 7,
      "outputs": [
        {
          "output_type": "stream",
          "text": [
            "Using TensorFlow backend.\n"
          ],
          "name": "stderr"
        }
      ]
    },
    {
      "cell_type": "code",
      "metadata": {
        "id": "GAxP51Fkn86e",
        "colab_type": "code",
        "colab": {
          "base_uri": "https://localhost:8080/",
          "height": 370
        },
        "outputId": "24e9f3c0-082d-41f5-8834-e90187751c73"
      },
      "source": [
        "# Initialization RNN\n",
        "\n",
        "reg = Sequential()\n",
        "reg.add(LSTM(units = 50, return_sequences= True, input_shape = (X_train.shape[1], 1)))\n",
        "reg.add(Dropout(0.2))\n",
        "\n",
        "reg.add(LSTM(units = 50, return_sequences= True))\n",
        "reg.add(Dropout(0.2))\n",
        "\n",
        "reg.add(LSTM(units = 50, return_sequences= True))\n",
        "reg.add(Dropout(0.2))\n",
        "\n",
        "reg.add(LSTM(units = 50))\n",
        "reg.add(Dropout(0.2))\n",
        "\n",
        "reg.add(Dense(units= 1))\n",
        "\n",
        "# Compiling RNN\n",
        "\n",
        "reg.compile(optimizer= 'adam' , loss = 'mean_squared_error')\n",
        "\n",
        "# fitting RNN to training set\n",
        "\n",
        "reg.fit(X_train, y_train, epochs= 100 , batch_size= 32)\n",
        "\n"
      ],
      "execution_count": 24,
      "outputs": [
        {
          "output_type": "stream",
          "text": [
            "Epoch 1/10\n",
            "1198/1198 [==============================] - 19s 16ms/step - loss: 0.0480\n",
            "Epoch 2/10\n",
            "1198/1198 [==============================] - 17s 14ms/step - loss: 0.0065\n",
            "Epoch 3/10\n",
            "1198/1198 [==============================] - 17s 14ms/step - loss: 0.0049\n",
            "Epoch 4/10\n",
            "1198/1198 [==============================] - 17s 14ms/step - loss: 0.0048\n",
            "Epoch 5/10\n",
            "1198/1198 [==============================] - 17s 14ms/step - loss: 0.0050\n",
            "Epoch 6/10\n",
            "1198/1198 [==============================] - 17s 14ms/step - loss: 0.0048\n",
            "Epoch 7/10\n",
            "1198/1198 [==============================] - 17s 14ms/step - loss: 0.0044\n",
            "Epoch 8/10\n",
            "1198/1198 [==============================] - 17s 14ms/step - loss: 0.0043\n",
            "Epoch 9/10\n",
            "1198/1198 [==============================] - 17s 14ms/step - loss: 0.0044\n",
            "Epoch 10/10\n",
            "1198/1198 [==============================] - 17s 14ms/step - loss: 0.0042\n"
          ],
          "name": "stdout"
        },
        {
          "output_type": "execute_result",
          "data": {
            "text/plain": [
              "<keras.callbacks.History at 0x7f9764657b00>"
            ]
          },
          "metadata": {
            "tags": []
          },
          "execution_count": 24
        }
      ]
    },
    {
      "cell_type": "code",
      "metadata": {
        "id": "BuZrDxM7opZD",
        "colab_type": "code",
        "colab": {}
      },
      "source": [
        "# Making the predictions \n",
        "\n",
        "test_data = pd.read_csv('/content/Google_Stock_Price_Test.csv')\n",
        "open_stock_data = test_data.iloc[: , 1:2].values\n",
        "\n",
        "# Getting predicted stock values for 2017\n",
        "\n",
        "dataset_total = pd.concat((data_train['Open'], test_data['Open']), axis = 0)\n",
        "inputs = dataset_total[len(dataset_total) - len(test_data) - 60:].values\n",
        "inputs = inputs.reshape(-1,1)\n",
        "inputs = sc.transform(inputs)\n",
        "X_test = []\n",
        "\n",
        "for i in range (60,80):\n",
        "  X_test.append(inputs[i-60:i,0])\n",
        "X_test = np.array(X_test)\n",
        "X_test= np.reshape(X_test,(X_test.shape[0], X_test.shape[1],1))\n",
        "predicted_stock = reg.predict(X_test)\n",
        "predicted_stock = sc.inverse_transform(predicted_stock)\n",
        "\n",
        "\n"
      ],
      "execution_count": 0,
      "outputs": []
    },
    {
      "cell_type": "code",
      "metadata": {
        "id": "aZVSzybqxDOm",
        "colab_type": "code",
        "colab": {
          "base_uri": "https://localhost:8080/",
          "height": 295
        },
        "outputId": "d36ea8ec-79ae-4a6d-d945-0b55894ae852"
      },
      "source": [
        "## Visualing Results \n",
        "\n",
        "plt.plot( open_stock_data,color = 'red', label = ' Original test data')\n",
        "plt.plot(predicted_stock, color = 'blue', label = ' predicted test data')\n",
        "plt.title('Google Stock prediction')\n",
        "plt.xlabel('Time')\n",
        "plt.ylabel('Google Stock Price')\n",
        "plt.legend()\n",
        "plt.show()\n"
      ],
      "execution_count": 23,
      "outputs": [
        {
          "output_type": "display_data",
          "data": {
            "image/png": "[encoded data removed]",
            "text/plain": [
              "<Figure size 432x288 with 1 Axes>"
            ]
          },
          "metadata": {
            "tags": []
          }
        }
      ]
    },
    {
      "cell_type": "code",
      "metadata": {
        "id": "Vz0P3H1hoIWd",
        "colab_type": "code",
        "colab": {}
      },
      "source": [
        ""
      ],
      "execution_count": 0,
      "outputs": []
    },
    {
      "cell_type": "markdown",
      "metadata": {
        "id": "HISyRD26pqZ8",
        "colab_type": "text"
      },
      "source": [
        ""
      ]
    }
  ]
}