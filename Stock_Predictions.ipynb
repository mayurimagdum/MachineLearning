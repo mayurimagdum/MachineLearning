{
  "nbformat": 4,
  "nbformat_minor": 0,
  "metadata": {
    "colab": {
      "name": "Stock Predictions.ipynb",
      "provenance": [],
      "include_colab_link": true
    },
    "kernelspec": {
      "name": "python3",
      "display_name": "Python 3"
    },
    "accelerator": "GPU"
  },
  "cells": [
    {
      "cell_type": "markdown",
      "metadata": {
        "id": "view-in-github",
        "colab_type": "text"
      },
      "source": [
        "<a href=\"https://colab.research.google.com/github/mayurimagdum/MachineLearning/blob/master/Stock_Predictions.ipynb\" target=\"_parent\"><img src=\"https://colab.research.google.com/assets/colab-badge.svg\" alt=\"Open In Colab\"/></a>"
      ]
    },
    {
      "cell_type": "code",
      "metadata": {
        "id": "L7FdXWeMXfuJ",
        "colab_type": "code",
        "colab": {}
      },
      "source": [
        "import matplotlib.pyplot as plt\n",
        "import numpy as np\n",
        "import pandas as pd\n",
        "% matplotlib inline"
      ],
      "execution_count": 0,
      "outputs": []
    },
    {
      "cell_type": "code",
      "metadata": {
        "id": "GX4hkrfJX2ru",
        "colab_type": "code",
        "colab": {}
      },
      "source": [
        "data_train = pd.read_csv('/content/Google_Stock_Price_Train.csv')\n",
        "train = data_train.iloc[:, 1:2].values\n"
      ],
      "execution_count": 0,
      "outputs": []
    },
    {
      "cell_type": "code",
      "metadata": {
        "id": "RSeUaGysYHEX",
        "colab_type": "code",
        "colab": {}
      },
      "source": [
        "# preprocessing \n",
        "from sklearn.preprocessing import MinMaxScaler\n",
        "sc = MinMaxScaler(feature_range = (0,1))\n",
        "train_scaled = sc.fit_transform(train)"
      ],
      "execution_count": 0,
      "outputs": []
    },
    {
      "cell_type": "code",
      "metadata": {
        "id": "gukq0qSSgfGN",
        "colab_type": "code",
        "colab": {}
      },
      "source": [
        "# Creating data structure with 60 times\n",
        "X_train = []\n",
        "y_train = []\n",
        "\n",
        "for i in range( 60, len(train_scaled)):\n",
        "  X_train.append(train_scaled[i-60:i, 0])\n",
        "  y_train.append(train_scaled[i,0])\n",
        "\n",
        "X_train,y_train = np.array(X_train),np.array(y_train)\n"
      ],
      "execution_count": 0,
      "outputs": []
    },
    {
      "cell_type": "code",
      "metadata": {
        "id": "FuB0xNQRmOSX",
        "colab_type": "code",
        "colab": {}
      },
      "source": [
        "# Reshaping \n",
        "\n",
        "X_train = np.reshape(X_train,(X_train.shape[0], X_train.shape[1],1))"
      ],
      "execution_count": 0,
      "outputs": []
    },
    {
      "cell_type": "code",
      "metadata": {
        "id": "7Kp54Weznd9q",
        "colab_type": "code",
        "colab": {}
      },
      "source": [
        "# Building RNN\n",
        "\n",
        "from keras.models import Sequential\n",
        "from keras.layers import Dense\n",
        "from keras.layers import LSTM\n",
        "from keras.layers import Dropout"
      ],
      "execution_count": 0,
      "outputs": []
    },
    {
      "cell_type": "code",
      "metadata": {
        "id": "GAxP51Fkn86e",
        "colab_type": "code",
        "outputId": "682d4715-e6b5-4f97-b5c7-cd121f37d054",
        "colab": {
          "base_uri": "https://localhost:8080/",
          "height": 1000
        }
      },
      "source": [
        "# Initialization RNN\n",
        "\n",
        "reg = Sequential()\n",
        "reg.add(LSTM(units = 50, return_sequences= True, input_shape = (X_train.shape[1], 1)))\n",
        "reg.add(Dropout(0.2))\n",
        "\n",
        "reg.add(LSTM(units = 50, return_sequences= True))\n",
        "reg.add(Dropout(0.2))\n",
        "\n",
        "reg.add(LSTM(units = 50, return_sequences= True))\n",
        "reg.add(Dropout(0.2))\n",
        "\n",
        "reg.add(LSTM(units = 50))\n",
        "reg.add(Dropout(0.2))\n",
        "\n",
        "reg.add(Dense(units= 1))\n",
        "\n",
        "# Compiling RNN\n",
        "\n",
        "reg.compile(optimizer= 'adam' , loss = 'mean_squared_error')\n",
        "\n",
        "# fitting RNN to training set\n",
        "\n",
        "reg.fit(X_train, y_train, epochs= 100 , batch_size= 32)\n",
        "\n"
      ],
      "execution_count": 12,
      "outputs": [
        {
          "output_type": "stream",
          "text": [
            "WARNING:tensorflow:From /usr/local/lib/python3.6/dist-packages/tensorflow_core/python/ops/math_grad.py:1424: where (from tensorflow.python.ops.array_ops) is deprecated and will be removed in a future version.\n",
            "Instructions for updating:\n",
            "Use tf.where in 2.0, which has the same broadcast rule as np.where\n",
            "WARNING:tensorflow:From /usr/local/lib/python3.6/dist-packages/keras/backend/tensorflow_backend.py:1033: The name tf.assign_add is deprecated. Please use tf.compat.v1.assign_add instead.\n",
            "\n",
            "WARNING:tensorflow:From /usr/local/lib/python3.6/dist-packages/keras/backend/tensorflow_backend.py:1020: The name tf.assign is deprecated. Please use tf.compat.v1.assign instead.\n",
            "\n",
            "WARNING:tensorflow:From /usr/local/lib/python3.6/dist-packages/keras/backend/tensorflow_backend.py:3005: The name tf.Session is deprecated. Please use tf.compat.v1.Session instead.\n",
            "\n",
            "Epoch 1/100\n",
            "WARNING:tensorflow:From /usr/local/lib/python3.6/dist-packages/keras/backend/tensorflow_backend.py:190: The name tf.get_default_session is deprecated. Please use tf.compat.v1.get_default_session instead.\n",
            "\n",
            "WARNING:tensorflow:From /usr/local/lib/python3.6/dist-packages/keras/backend/tensorflow_backend.py:197: The name tf.ConfigProto is deprecated. Please use tf.compat.v1.ConfigProto instead.\n",
            "\n",
            "WARNING:tensorflow:From /usr/local/lib/python3.6/dist-packages/keras/backend/tensorflow_backend.py:207: The name tf.global_variables is deprecated. Please use tf.compat.v1.global_variables instead.\n",
            "\n",
            "WARNING:tensorflow:From /usr/local/lib/python3.6/dist-packages/keras/backend/tensorflow_backend.py:216: The name tf.is_variable_initialized is deprecated. Please use tf.compat.v1.is_variable_initialized instead.\n",
            "\n",
            "WARNING:tensorflow:From /usr/local/lib/python3.6/dist-packages/keras/backend/tensorflow_backend.py:223: The name tf.variables_initializer is deprecated. Please use tf.compat.v1.variables_initializer instead.\n",
            "\n",
            "1198/1198 [==============================] - 24s 20ms/step - loss: 0.0649\n",
            "Epoch 2/100\n",
            "1198/1198 [==============================] - 16s 14ms/step - loss: 0.0063\n",
            "Epoch 3/100\n",
            "1198/1198 [==============================] - 16s 14ms/step - loss: 0.0050\n",
            "Epoch 4/100\n",
            "1198/1198 [==============================] - 17s 14ms/step - loss: 0.0052\n",
            "Epoch 5/100\n",
            "1198/1198 [==============================] - 17s 14ms/step - loss: 0.0045\n",
            "Epoch 6/100\n",
            "1198/1198 [==============================] - 17s 14ms/step - loss: 0.0047\n",
            "Epoch 7/100\n",
            "1198/1198 [==============================] - 17s 14ms/step - loss: 0.0044\n",
            "Epoch 8/100\n",
            "1198/1198 [==============================] - 17s 14ms/step - loss: 0.0050\n",
            "Epoch 9/100\n",
            "1198/1198 [==============================] - 17s 14ms/step - loss: 0.0042\n",
            "Epoch 10/100\n",
            "1198/1198 [==============================] - 17s 14ms/step - loss: 0.0046\n",
            "Epoch 11/100\n",
            "1198/1198 [==============================] - 16s 14ms/step - loss: 0.0044\n",
            "Epoch 12/100\n",
            "1198/1198 [==============================] - 17s 14ms/step - loss: 0.0044\n",
            "Epoch 13/100\n",
            "1198/1198 [==============================] - 17s 14ms/step - loss: 0.0040\n",
            "Epoch 14/100\n",
            "1198/1198 [==============================] - 17s 14ms/step - loss: 0.0039\n",
            "Epoch 15/100\n",
            "1198/1198 [==============================] - 17s 14ms/step - loss: 0.0039\n",
            "Epoch 16/100\n",
            "1198/1198 [==============================] - 17s 14ms/step - loss: 0.0038\n",
            "Epoch 17/100\n",
            "1198/1198 [==============================] - 17s 14ms/step - loss: 0.0034\n",
            "Epoch 18/100\n",
            "1198/1198 [==============================] - 17s 14ms/step - loss: 0.0036\n",
            "Epoch 19/100\n",
            "1198/1198 [==============================] - 17s 14ms/step - loss: 0.0035\n",
            "Epoch 20/100\n",
            "1198/1198 [==============================] - 17s 14ms/step - loss: 0.0037\n",
            "Epoch 21/100\n",
            "1198/1198 [==============================] - 17s 14ms/step - loss: 0.0038\n",
            "Epoch 22/100\n",
            "1198/1198 [==============================] - 17s 14ms/step - loss: 0.0046\n",
            "Epoch 23/100\n",
            "1198/1198 [==============================] - 17s 14ms/step - loss: 0.0033\n",
            "Epoch 24/100\n",
            "1198/1198 [==============================] - 17s 14ms/step - loss: 0.0037\n",
            "Epoch 25/100\n",
            "1198/1198 [==============================] - 17s 14ms/step - loss: 0.0032\n",
            "Epoch 26/100\n",
            "1198/1198 [==============================] - 17s 14ms/step - loss: 0.0034\n",
            "Epoch 27/100\n",
            "1198/1198 [==============================] - 17s 14ms/step - loss: 0.0030\n",
            "Epoch 28/100\n",
            "1198/1198 [==============================] - 17s 14ms/step - loss: 0.0033\n",
            "Epoch 29/100\n",
            "1198/1198 [==============================] - 17s 14ms/step - loss: 0.0033\n",
            "Epoch 30/100\n",
            "1198/1198 [==============================] - 17s 14ms/step - loss: 0.0032\n",
            "Epoch 31/100\n",
            "1198/1198 [==============================] - 17s 14ms/step - loss: 0.0029\n",
            "Epoch 32/100\n",
            "1198/1198 [==============================] - 17s 14ms/step - loss: 0.0029\n",
            "Epoch 33/100\n",
            "1198/1198 [==============================] - 17s 14ms/step - loss: 0.0039\n",
            "Epoch 34/100\n",
            "1198/1198 [==============================] - 17s 14ms/step - loss: 0.0031\n",
            "Epoch 35/100\n",
            "1198/1198 [==============================] - 17s 14ms/step - loss: 0.0030\n",
            "Epoch 36/100\n",
            "1198/1198 [==============================] - 17s 14ms/step - loss: 0.0031\n",
            "Epoch 37/100\n",
            "1198/1198 [==============================] - 17s 14ms/step - loss: 0.0027\n",
            "Epoch 38/100\n",
            "1198/1198 [==============================] - 17s 14ms/step - loss: 0.0027\n",
            "Epoch 39/100\n",
            "1198/1198 [==============================] - 17s 14ms/step - loss: 0.0027\n",
            "Epoch 40/100\n",
            "1198/1198 [==============================] - 17s 14ms/step - loss: 0.0027\n",
            "Epoch 41/100\n",
            "1198/1198 [==============================] - 17s 14ms/step - loss: 0.0033\n",
            "Epoch 42/100\n",
            "1198/1198 [==============================] - 17s 14ms/step - loss: 0.0030\n",
            "Epoch 43/100\n",
            "1198/1198 [==============================] - 17s 14ms/step - loss: 0.0024\n",
            "Epoch 44/100\n",
            "1198/1198 [==============================] - 17s 14ms/step - loss: 0.0024\n",
            "Epoch 45/100\n",
            "1198/1198 [==============================] - 17s 14ms/step - loss: 0.0024\n",
            "Epoch 46/100\n",
            "1198/1198 [==============================] - 17s 14ms/step - loss: 0.0029\n",
            "Epoch 47/100\n",
            "1198/1198 [==============================] - 17s 14ms/step - loss: 0.0024\n",
            "Epoch 48/100\n",
            "1198/1198 [==============================] - 17s 14ms/step - loss: 0.0024\n",
            "Epoch 49/100\n",
            "1198/1198 [==============================] - 17s 14ms/step - loss: 0.0022\n",
            "Epoch 50/100\n",
            "1198/1198 [==============================] - 17s 14ms/step - loss: 0.0023\n",
            "Epoch 51/100\n",
            "1198/1198 [==============================] - 16s 14ms/step - loss: 0.0022\n",
            "Epoch 52/100\n",
            "1198/1198 [==============================] - 16s 14ms/step - loss: 0.0024\n",
            "Epoch 53/100\n",
            "1198/1198 [==============================] - 17s 14ms/step - loss: 0.0023\n",
            "Epoch 54/100\n",
            "1198/1198 [==============================] - 17s 14ms/step - loss: 0.0024\n",
            "Epoch 55/100\n",
            "1198/1198 [==============================] - 16s 14ms/step - loss: 0.0025\n",
            "Epoch 56/100\n",
            "1198/1198 [==============================] - 16s 14ms/step - loss: 0.0024\n",
            "Epoch 57/100\n",
            "1198/1198 [==============================] - 17s 14ms/step - loss: 0.0020\n",
            "Epoch 58/100\n",
            "1198/1198 [==============================] - 17s 14ms/step - loss: 0.0021\n",
            "Epoch 59/100\n",
            "1198/1198 [==============================] - 17s 14ms/step - loss: 0.0023\n",
            "Epoch 60/100\n",
            "1198/1198 [==============================] - 17s 14ms/step - loss: 0.0022\n",
            "Epoch 61/100\n",
            "1198/1198 [==============================] - 17s 14ms/step - loss: 0.0021\n",
            "Epoch 62/100\n",
            "1198/1198 [==============================] - 17s 14ms/step - loss: 0.0022\n",
            "Epoch 63/100\n",
            "1198/1198 [==============================] - 17s 14ms/step - loss: 0.0021\n",
            "Epoch 64/100\n",
            "1198/1198 [==============================] - 17s 14ms/step - loss: 0.0022\n",
            "Epoch 65/100\n",
            "1198/1198 [==============================] - 17s 14ms/step - loss: 0.0022\n",
            "Epoch 66/100\n",
            "1198/1198 [==============================] - 17s 14ms/step - loss: 0.0025\n",
            "Epoch 67/100\n",
            "1198/1198 [==============================] - 17s 14ms/step - loss: 0.0019\n",
            "Epoch 68/100\n",
            "1198/1198 [==============================] - 17s 14ms/step - loss: 0.0019\n",
            "Epoch 69/100\n",
            "1198/1198 [==============================] - 17s 14ms/step - loss: 0.0022\n",
            "Epoch 70/100\n",
            "1198/1198 [==============================] - 17s 14ms/step - loss: 0.0019\n",
            "Epoch 71/100\n",
            "1198/1198 [==============================] - 16s 14ms/step - loss: 0.0021\n",
            "Epoch 72/100\n",
            "1198/1198 [==============================] - 17s 14ms/step - loss: 0.0021\n",
            "Epoch 73/100\n",
            "1198/1198 [==============================] - 17s 14ms/step - loss: 0.0017\n",
            "Epoch 74/100\n",
            "1198/1198 [==============================] - 17s 14ms/step - loss: 0.0020\n",
            "Epoch 75/100\n",
            "1198/1198 [==============================] - 17s 14ms/step - loss: 0.0019\n",
            "Epoch 76/100\n",
            "1198/1198 [==============================] - 17s 14ms/step - loss: 0.0020\n",
            "Epoch 77/100\n",
            "1198/1198 [==============================] - 17s 14ms/step - loss: 0.0021\n",
            "Epoch 78/100\n",
            "1198/1198 [==============================] - 17s 14ms/step - loss: 0.0017\n",
            "Epoch 79/100\n",
            "1198/1198 [==============================] - 17s 14ms/step - loss: 0.0017\n",
            "Epoch 80/100\n",
            "1198/1198 [==============================] - 17s 14ms/step - loss: 0.0018\n",
            "Epoch 81/100\n",
            "1198/1198 [==============================] - 17s 14ms/step - loss: 0.0017\n",
            "Epoch 82/100\n",
            "1198/1198 [==============================] - 17s 14ms/step - loss: 0.0020\n",
            "Epoch 83/100\n",
            "1198/1198 [==============================] - 17s 14ms/step - loss: 0.0017\n",
            "Epoch 84/100\n",
            "1198/1198 [==============================] - 17s 14ms/step - loss: 0.0017\n",
            "Epoch 85/100\n",
            "1198/1198 [==============================] - 17s 14ms/step - loss: 0.0017\n",
            "Epoch 86/100\n",
            "1198/1198 [==============================] - 17s 14ms/step - loss: 0.0018\n",
            "Epoch 87/100\n",
            "1198/1198 [==============================] - 17s 14ms/step - loss: 0.0019\n",
            "Epoch 88/100\n",
            "1198/1198 [==============================] - 17s 14ms/step - loss: 0.0016\n",
            "Epoch 89/100\n",
            "1198/1198 [==============================] - 16s 14ms/step - loss: 0.0016\n",
            "Epoch 90/100\n",
            "1198/1198 [==============================] - 17s 14ms/step - loss: 0.0016\n",
            "Epoch 91/100\n",
            "1198/1198 [==============================] - 16s 14ms/step - loss: 0.0017\n",
            "Epoch 92/100\n",
            "1198/1198 [==============================] - 16s 14ms/step - loss: 0.0018\n",
            "Epoch 93/100\n",
            "1198/1198 [==============================] - 16s 14ms/step - loss: 0.0015\n",
            "Epoch 94/100\n",
            "1198/1198 [==============================] - 16s 14ms/step - loss: 0.0015\n",
            "Epoch 95/100\n",
            "1198/1198 [==============================] - 16s 14ms/step - loss: 0.0015\n",
            "Epoch 96/100\n",
            "1198/1198 [==============================] - 16s 14ms/step - loss: 0.0016\n",
            "Epoch 97/100\n",
            "1198/1198 [==============================] - 17s 14ms/step - loss: 0.0016\n",
            "Epoch 98/100\n",
            "1198/1198 [==============================] - 17s 14ms/step - loss: 0.0016\n",
            "Epoch 99/100\n",
            "1198/1198 [==============================] - 16s 14ms/step - loss: 0.0015\n",
            "Epoch 100/100\n",
            "1198/1198 [==============================] - 16s 14ms/step - loss: 0.0016\n"
          ],
          "name": "stdout"
        },
        {
          "output_type": "execute_result",
          "data": {
            "text/plain": [
              "<keras.callbacks.History at 0x7f7da90bcfd0>"
            ]
          },
          "metadata": {
            "tags": []
          },
          "execution_count": 12
        }
      ]
    },
    {
      "cell_type": "markdown",
      "metadata": {
        "id": "BQPjpSRe_y6Z",
        "colab_type": "text"
      },
      "source": [
        ""
      ]
    },
    {
      "cell_type": "code",
      "metadata": {
        "id": "BuZrDxM7opZD",
        "colab_type": "code",
        "colab": {}
      },
      "source": [
        "# Making the predictions \n",
        "\n",
        "test_data = pd.read_csv('/content/Google_Stock_Price_Test.csv')\n",
        "open_stock_data = test_data.iloc[: , 1:2].values\n",
        "\n",
        "# Getting predicted stock values for 2017\n",
        "\n",
        "dataset_total = pd.concat((data_train['Open'], test_data['Open']), axis = 0)\n",
        "inputs = dataset_total[len(dataset_total) - len(test_data) - 60:].values\n",
        "inputs = inputs.reshape(-1,1)\n",
        "inputs = sc.transform(inputs)\n",
        "X_test = []\n",
        "\n",
        "for i in range (60,80):\n",
        "  X_test.append(inputs[i-60:i,0])\n",
        "X_test = np.array(X_test)\n",
        "X_test= np.reshape(X_test,(X_test.shape[0], X_test.shape[1],1))\n",
        "predicted_stock = reg.predict(X_test)\n",
        "predicted_stock = sc.inverse_transform(predicted_stock)\n",
        "\n",
        "\n"
      ],
      "execution_count": 0,
      "outputs": []
    },
    {
      "cell_type": "code",
      "metadata": {
        "id": "aZVSzybqxDOm",
        "colab_type": "code",
        "outputId": "b56f712a-eb7a-484e-9089-57b2356041a2",
        "colab": {
          "base_uri": "https://localhost:8080/",
          "height": 295
        }
      },
      "source": [
        "## Visualing Results \n",
        "\n",
        "plt.plot( open_stock_data,color = 'red', label = ' Original test data')\n",
        "plt.plot(predicted_stock, color = 'blue', label = ' predicted test data')\n",
        "plt.title('Google Stock prediction')\n",
        "plt.xlabel('Time')\n",
        "plt.ylabel('Google Stock Price')\n",
        "plt.legend()\n",
        "plt.show()\n"
      ],
      "execution_count": 14,
      "outputs": [
        {
          "output_type": "display_data",
          "data": {
            "image/png": "[encoded data removed]",
            "text/plain": [
              "<Figure size 432x288 with 1 Axes>"
            ]
          },
          "metadata": {
            "tags": []
          }
        }
      ]
    },
    {
      "cell_type": "code",
      "metadata": {
        "id": "Vz0P3H1hoIWd",
        "colab_type": "code",
        "colab": {}
      },
      "source": [
        ""
      ],
      "execution_count": 0,
      "outputs": []
    },
    {
      "cell_type": "markdown",
      "metadata": {
        "id": "HISyRD26pqZ8",
        "colab_type": "text"
      },
      "source": [
        ""
      ]
    }
  ]
}